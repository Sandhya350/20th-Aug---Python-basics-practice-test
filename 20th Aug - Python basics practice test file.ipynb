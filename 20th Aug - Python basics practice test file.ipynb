{
 "cells": [
  {
   "cell_type": "raw",
   "id": "c82ccd10-63f3-4ac4-9e2e-789398bb2432",
   "metadata": {},
   "source": [
    "TOPIC: String Based Assignment Problem"
   ]
  },
  {
   "cell_type": "markdown",
   "id": "7253b184-34d3-43f6-9e00-6e7d6aa3cdf2",
   "metadata": {},
   "source": [
    "1. Write a program to reverse a string."
   ]
  },
  {
   "cell_type": "code",
   "execution_count": 14,
   "id": "5f137346-48d6-4c23-bef6-0cfc1afd6bd9",
   "metadata": {},
   "outputs": [],
   "source": [
    "s1 = [1 , 2 ,3 , \"sandy\" , \"table\"]"
   ]
  },
  {
   "cell_type": "code",
   "execution_count": 18,
   "id": "dc0f6522-10ae-4a03-983a-75848cbdf84a",
   "metadata": {},
   "outputs": [],
   "source": [
    "s1.reverse()"
   ]
  },
  {
   "cell_type": "code",
   "execution_count": 19,
   "id": "982d4f80-c484-46dc-bbc5-e8d76af7f26e",
   "metadata": {},
   "outputs": [
    {
     "data": {
      "text/plain": [
       "['table', 'sandy', 3, 2, 1]"
      ]
     },
     "execution_count": 19,
     "metadata": {},
     "output_type": "execute_result"
    }
   ],
   "source": [
    "s1"
   ]
  },
  {
   "cell_type": "markdown",
   "id": "f6d4a336-65be-4af1-a1dc-937073fc0249",
   "metadata": {},
   "source": [
    "2. Check if a string is a palindrome."
   ]
  },
  {
   "cell_type": "code",
   "execution_count": 20,
   "id": "b7a3525d-4949-4858-9ad1-7087baae87f8",
   "metadata": {},
   "outputs": [],
   "source": [
    "s = \"sandhya\""
   ]
  },
  {
   "cell_type": "code",
   "execution_count": 21,
   "id": "78890871-329b-4c09-85f7-3e16b4906a9a",
   "metadata": {},
   "outputs": [],
   "source": [
    "def ispalindrome(s): return s == s[: : -1]"
   ]
  },
  {
   "cell_type": "code",
   "execution_count": 22,
   "id": "42feb3d1-5bb5-405b-b559-753f7ffcbfbe",
   "metadata": {},
   "outputs": [
    {
     "data": {
      "text/plain": [
       "False"
      ]
     },
     "execution_count": 22,
     "metadata": {},
     "output_type": "execute_result"
    }
   ],
   "source": [
    "ispalindrome(s)"
   ]
  },
  {
   "cell_type": "markdown",
   "id": "2625b6b2-8a15-46b2-811f-f561e23c22e0",
   "metadata": {},
   "source": [
    "3. Convert a string to uppercase."
   ]
  },
  {
   "cell_type": "code",
   "execution_count": 23,
   "id": "bbfca863-76da-4f8a-81c3-f373a4f9da39",
   "metadata": {},
   "outputs": [
    {
     "data": {
      "text/plain": [
       "'sandhya'"
      ]
     },
     "execution_count": 23,
     "metadata": {},
     "output_type": "execute_result"
    }
   ],
   "source": [
    "s"
   ]
  },
  {
   "cell_type": "code",
   "execution_count": 24,
   "id": "cb3eb6aa-08c5-4f44-be13-6bd8d06d7362",
   "metadata": {},
   "outputs": [
    {
     "data": {
      "text/plain": [
       "'SANDHYA'"
      ]
     },
     "execution_count": 24,
     "metadata": {},
     "output_type": "execute_result"
    }
   ],
   "source": [
    "s.upper()"
   ]
  },
  {
   "cell_type": "markdown",
   "id": "589bd178-8fee-485b-ad3e-b29a7d8744f2",
   "metadata": {},
   "source": [
    "4. Convert a string to lowercase."
   ]
  },
  {
   "cell_type": "code",
   "execution_count": 25,
   "id": "194a48bf-5eb6-4301-a060-b65335b870f7",
   "metadata": {},
   "outputs": [
    {
     "data": {
      "text/plain": [
       "'sandhya'"
      ]
     },
     "execution_count": 25,
     "metadata": {},
     "output_type": "execute_result"
    }
   ],
   "source": [
    "s"
   ]
  },
  {
   "cell_type": "code",
   "execution_count": 26,
   "id": "33a66071-83b4-45c6-a071-c983c2c28bcd",
   "metadata": {},
   "outputs": [
    {
     "data": {
      "text/plain": [
       "'sandhya'"
      ]
     },
     "execution_count": 26,
     "metadata": {},
     "output_type": "execute_result"
    }
   ],
   "source": [
    "s.lower()"
   ]
  },
  {
   "cell_type": "markdown",
   "id": "9ce85ede-fa1c-4b9a-b4c1-646e9faaa08e",
   "metadata": {},
   "source": [
    "5. Count the number of vowels in a string.\n",
    "6. Count the number of consonants in a string."
   ]
  },
  {
   "cell_type": "code",
   "execution_count": 83,
   "id": "9a1e5a5d-455b-47b0-85a8-7cad04fc691a",
   "metadata": {},
   "outputs": [],
   "source": [
    "s = \"sandhya: \""
   ]
  },
  {
   "cell_type": "code",
   "execution_count": 90,
   "id": "048c148b-bc4d-4e6b-9571-58695dc0ac36",
   "metadata": {},
   "outputs": [],
   "source": [
    "vowels = [each for each in s if each in \"aeiouAEIOU\"]\n",
    "consonant = [each for each in s if each not in \"aeiouAEIOU\"]"
   ]
  },
  {
   "cell_type": "code",
   "execution_count": 85,
   "id": "8d564752-6376-4990-9ad8-7321cf65a871",
   "metadata": {},
   "outputs": [
    {
     "name": "stdout",
     "output_type": "stream",
     "text": [
      "number of consonants in s:  7\n"
     ]
    }
   ],
   "source": [
    "print(\"number of consonants in s: \" , len(consonant))"
   ]
  },
  {
   "cell_type": "code",
   "execution_count": 91,
   "id": "95384e47-2fcb-439e-b78e-e10f9d7dca3b",
   "metadata": {},
   "outputs": [
    {
     "name": "stdout",
     "output_type": "stream",
     "text": [
      "number of vowels in s:  2\n"
     ]
    }
   ],
   "source": [
    "print(\"number of vowels in s: \" , len(vowels))"
   ]
  },
  {
   "cell_type": "markdown",
   "id": "f76e8140-3f8c-4f03-ab60-d2a70ed51e58",
   "metadata": {},
   "source": [
    "7. Remove all whitespaces from a string."
   ]
  },
  {
   "cell_type": "code",
   "execution_count": 120,
   "id": "d593fdcf-266e-4254-9aed-f5f01449c91a",
   "metadata": {},
   "outputs": [],
   "source": [
    "a = \"i love food\""
   ]
  },
  {
   "cell_type": "code",
   "execution_count": 127,
   "id": "c49817e5-9bc3-4cb4-939d-3279c9367888",
   "metadata": {},
   "outputs": [],
   "source": [
    "nospaces = a.strip()"
   ]
  },
  {
   "cell_type": "code",
   "execution_count": 129,
   "id": "f9e7ede3-bcd5-415b-b8cd-51c46b1fe0b0",
   "metadata": {},
   "outputs": [
    {
     "name": "stdout",
     "output_type": "stream",
     "text": [
      "i love food\n"
     ]
    }
   ],
   "source": [
    "print(a)"
   ]
  },
  {
   "cell_type": "code",
   "execution_count": 130,
   "id": "6cb4a4ab-8fe9-4ce9-afd5-2d4e8eac0617",
   "metadata": {},
   "outputs": [
    {
     "data": {
      "text/plain": [
       "'i love food'"
      ]
     },
     "execution_count": 130,
     "metadata": {},
     "output_type": "execute_result"
    }
   ],
   "source": [
    "a"
   ]
  },
  {
   "cell_type": "code",
   "execution_count": 143,
   "id": "338d7079-faa7-4b7d-b2c1-3560e9100134",
   "metadata": {},
   "outputs": [],
   "source": [
    "def remove(a): return a.replace(\" \",\"\")"
   ]
  },
  {
   "cell_type": "code",
   "execution_count": 144,
   "id": "f20e1da6-1aa7-49df-a04c-e9955784ec01",
   "metadata": {},
   "outputs": [
    {
     "name": "stdout",
     "output_type": "stream",
     "text": [
      "ilovefood\n"
     ]
    }
   ],
   "source": [
    "print(remove(a))"
   ]
  },
  {
   "cell_type": "markdown",
   "id": "01b53cba-2a60-44e6-b513-1df652598c6b",
   "metadata": {},
   "source": [
    "8. Find the length of a string without using the `len()` function."
   ]
  },
  {
   "cell_type": "code",
   "execution_count": 4,
   "id": "545c5c79-8be8-48ea-a6b1-c443506776ea",
   "metadata": {},
   "outputs": [
    {
     "name": "stdout",
     "output_type": "stream",
     "text": [
      "the length of the s is 7\n"
     ]
    }
   ],
   "source": [
    "s = \"sandhya\"\n",
    "i = 0\n",
    "for x in s :\n",
    "    i+=1\n",
    "print(\"the length of the s is \"+ str(i))"
   ]
  },
  {
   "cell_type": "markdown",
   "id": "7ccc4866-bad9-46a9-bdcb-f395c39f4bad",
   "metadata": {},
   "source": [
    "9. Check if a string contains a specific word."
   ]
  },
  {
   "cell_type": "code",
   "execution_count": 8,
   "id": "e4ad2486-2f1d-4b5f-b1aa-614e9fed87ba",
   "metadata": {},
   "outputs": [],
   "source": [
    "a = \"i am sandhya\""
   ]
  },
  {
   "cell_type": "code",
   "execution_count": 12,
   "id": "aa3ebebb-2c3d-48cf-8e13-61b1560f19f0",
   "metadata": {},
   "outputs": [
    {
     "name": "stdout",
     "output_type": "stream",
     "text": [
      "found\n"
     ]
    }
   ],
   "source": [
    "if \"am\" in str(a):\n",
    "    print(\"found\")\n",
    "else:\n",
    "    print(\"not found\")"
   ]
  },
  {
   "cell_type": "markdown",
   "id": "041be278-9f6f-4990-9121-6435ab44de3b",
   "metadata": {},
   "source": [
    "10. Replace a word in a string with another word."
   ]
  },
  {
   "cell_type": "code",
   "execution_count": 13,
   "id": "d6c004e2-857c-457a-9201-7e59cca6030e",
   "metadata": {},
   "outputs": [
    {
     "data": {
      "text/plain": [
       "'sandhya'"
      ]
     },
     "execution_count": 13,
     "metadata": {},
     "output_type": "execute_result"
    }
   ],
   "source": [
    "s"
   ]
  },
  {
   "cell_type": "code",
   "execution_count": 15,
   "id": "84f1722d-b751-422e-9f76-73ebc3d329c9",
   "metadata": {},
   "outputs": [
    {
     "data": {
      "text/plain": [
       "'sanxhya'"
      ]
     },
     "execution_count": 15,
     "metadata": {},
     "output_type": "execute_result"
    }
   ],
   "source": [
    "s.replace(\"d\" , \"x\")"
   ]
  },
  {
   "cell_type": "markdown",
   "id": "3f4dd851-c178-448f-a4d2-81b6bb13ca9d",
   "metadata": {},
   "source": [
    "11. Count the occurrences of a word in a string."
   ]
  },
  {
   "cell_type": "code",
   "execution_count": 16,
   "id": "ba6dafa3-5570-434c-8da7-25f83c53d24e",
   "metadata": {},
   "outputs": [
    {
     "data": {
      "text/plain": [
       "'sandhya'"
      ]
     },
     "execution_count": 16,
     "metadata": {},
     "output_type": "execute_result"
    }
   ],
   "source": [
    "s"
   ]
  },
  {
   "cell_type": "code",
   "execution_count": 17,
   "id": "81a5aefa-d578-4ad1-9931-242a328e6252",
   "metadata": {},
   "outputs": [
    {
     "data": {
      "text/plain": [
       "2"
      ]
     },
     "execution_count": 17,
     "metadata": {},
     "output_type": "execute_result"
    }
   ],
   "source": [
    "s.count(\"a\")"
   ]
  },
  {
   "cell_type": "markdown",
   "id": "5675f467-dcf7-4933-b743-633b38e3f4b0",
   "metadata": {},
   "source": [
    "12. Find the first occurrence of a word in a string."
   ]
  },
  {
   "cell_type": "code",
   "execution_count": 18,
   "id": "3bad05e6-db58-408f-9b16-7d2effdb86df",
   "metadata": {},
   "outputs": [
    {
     "data": {
      "text/plain": [
       "'sandhya'"
      ]
     },
     "execution_count": 18,
     "metadata": {},
     "output_type": "execute_result"
    }
   ],
   "source": [
    "s"
   ]
  },
  {
   "cell_type": "code",
   "execution_count": 19,
   "id": "1976f6d2-ea72-4d9d-9927-7c907efd8f3d",
   "metadata": {},
   "outputs": [
    {
     "data": {
      "text/plain": [
       "0"
      ]
     },
     "execution_count": 19,
     "metadata": {},
     "output_type": "execute_result"
    }
   ],
   "source": [
    "s.find(s)"
   ]
  },
  {
   "cell_type": "markdown",
   "id": "acecf336-5f4a-401c-9da5-f20e43f08688",
   "metadata": {},
   "source": [
    "13. Find the last occurrence of a word in a string."
   ]
  },
  {
   "cell_type": "code",
   "execution_count": 20,
   "id": "bff416cb-250e-41c5-adf5-6f04b5559d77",
   "metadata": {},
   "outputs": [
    {
     "data": {
      "text/plain": [
       "'sandhya'"
      ]
     },
     "execution_count": 20,
     "metadata": {},
     "output_type": "execute_result"
    }
   ],
   "source": [
    "s"
   ]
  },
  {
   "cell_type": "code",
   "execution_count": 21,
   "id": "7d16c16d-8603-41eb-b374-229751176002",
   "metadata": {},
   "outputs": [
    {
     "data": {
      "text/plain": [
       "-1"
      ]
     },
     "execution_count": 21,
     "metadata": {},
     "output_type": "execute_result"
    }
   ],
   "source": [
    "s.find(a)"
   ]
  },
  {
   "cell_type": "markdown",
   "id": "9a1f3da9-25c1-409c-b0a7-ed7273a4ceb2",
   "metadata": {},
   "source": [
    "14. Split a string into a list of words."
   ]
  },
  {
   "cell_type": "code",
   "execution_count": 28,
   "id": "90ad05b5-c404-42fc-b1fc-72766e6b2347",
   "metadata": {},
   "outputs": [],
   "source": [
    "x = \"hello world, my name is sandhya, i am 26 year old\""
   ]
  },
  {
   "cell_type": "code",
   "execution_count": 34,
   "id": "6cea1495-95ce-4f8f-b3a1-4ace053d0a79",
   "metadata": {},
   "outputs": [],
   "source": [
    "a = x.split(\", \")"
   ]
  },
  {
   "cell_type": "code",
   "execution_count": 35,
   "id": "0ef4b366-a806-4b9c-a58b-3fc5f1ac7704",
   "metadata": {},
   "outputs": [
    {
     "name": "stdout",
     "output_type": "stream",
     "text": [
      "['hello world', 'my name is sandhya', 'i am 26 year old']\n"
     ]
    }
   ],
   "source": [
    "print(a)"
   ]
  },
  {
   "cell_type": "markdown",
   "id": "196dfa7f-6e79-4996-b1c4-433c54613ffe",
   "metadata": {},
   "source": [
    "15. Join a list of words into a string."
   ]
  },
  {
   "cell_type": "code",
   "execution_count": 36,
   "id": "240e0de9-bdb3-4758-b5ef-3fc3b56936b3",
   "metadata": {},
   "outputs": [],
   "source": [
    "l = [\"1\" , \"2\" , \"3\" , \"sandy\" , \"cupboard\"]"
   ]
  },
  {
   "cell_type": "code",
   "execution_count": 40,
   "id": "65ea49bd-1df5-4fba-8edc-e9940817987e",
   "metadata": {},
   "outputs": [
    {
     "data": {
      "text/plain": [
       "['1', '2', '3', 'sandy', 'cupboard']"
      ]
     },
     "execution_count": 40,
     "metadata": {},
     "output_type": "execute_result"
    }
   ],
   "source": [
    "list(l)"
   ]
  },
  {
   "cell_type": "markdown",
   "id": "7ba960bd-3fc1-4d40-989d-1eb5da6b6076",
   "metadata": {},
   "source": [
    "16. Convert a string where words are separated by spaces to one where words are separated by underscores."
   ]
  },
  {
   "cell_type": "code",
   "execution_count": 47,
   "id": "ec3f16eb-565e-4b4e-b227-59347b25c6db",
   "metadata": {},
   "outputs": [
    {
     "data": {
      "text/plain": [
       "'hello world, my name is sandhya, i am 26 year old'"
      ]
     },
     "execution_count": 47,
     "metadata": {},
     "output_type": "execute_result"
    }
   ],
   "source": [
    "x"
   ]
  },
  {
   "cell_type": "code",
   "execution_count": 48,
   "id": "1c9be2ed-6ce6-4ba9-b731-7fd8724f35e4",
   "metadata": {},
   "outputs": [
    {
     "data": {
      "text/plain": [
       "['hello',\n",
       " 'world,',\n",
       " 'my',\n",
       " 'name',\n",
       " 'is',\n",
       " 'sandhya,',\n",
       " 'i',\n",
       " 'am',\n",
       " '26',\n",
       " 'year',\n",
       " 'old']"
      ]
     },
     "execution_count": 48,
     "metadata": {},
     "output_type": "execute_result"
    }
   ],
   "source": [
    "x.split()"
   ]
  },
  {
   "cell_type": "markdown",
   "id": "526a0f94-7e9d-4b3a-8970-c5eff81f0044",
   "metadata": {},
   "source": [
    "17. Check if a string starts with a specific word or phrase."
   ]
  },
  {
   "cell_type": "code",
   "execution_count": 49,
   "id": "18e1c98f-173b-45e7-a1b8-0606b05e2300",
   "metadata": {},
   "outputs": [
    {
     "data": {
      "text/plain": [
       "'hello world, my name is sandhya, i am 26 year old'"
      ]
     },
     "execution_count": 49,
     "metadata": {},
     "output_type": "execute_result"
    }
   ],
   "source": [
    "x"
   ]
  },
  {
   "cell_type": "code",
   "execution_count": 50,
   "id": "38ddeb29-25f5-4679-8eae-1bd590a0cbb8",
   "metadata": {},
   "outputs": [],
   "source": [
    "a = x.startswith('hel')"
   ]
  },
  {
   "cell_type": "code",
   "execution_count": 51,
   "id": "d87f12d7-0c42-4875-85a8-6d2930dcca0f",
   "metadata": {},
   "outputs": [
    {
     "name": "stdout",
     "output_type": "stream",
     "text": [
      "True\n"
     ]
    }
   ],
   "source": [
    "print(a)"
   ]
  },
  {
   "cell_type": "code",
   "execution_count": 52,
   "id": "3fd1d593-682d-4545-b9cb-1454a873b8c4",
   "metadata": {},
   "outputs": [],
   "source": [
    "a = x.startswith('old')"
   ]
  },
  {
   "cell_type": "code",
   "execution_count": 53,
   "id": "ad2aea03-fd04-44d9-af84-45368f32c2c2",
   "metadata": {},
   "outputs": [
    {
     "name": "stdout",
     "output_type": "stream",
     "text": [
      "False\n"
     ]
    }
   ],
   "source": [
    "print(a)"
   ]
  },
  {
   "cell_type": "markdown",
   "id": "99c9d64b-f402-4ed7-9318-49611afdb31f",
   "metadata": {},
   "source": [
    "18. Check if a string ends with a specific word or phrase."
   ]
  },
  {
   "cell_type": "code",
   "execution_count": 54,
   "id": "32701db5-9b0a-4d15-99b7-3fe15d2d9581",
   "metadata": {},
   "outputs": [
    {
     "data": {
      "text/plain": [
       "'hello world, my name is sandhya, i am 26 year old'"
      ]
     },
     "execution_count": 54,
     "metadata": {},
     "output_type": "execute_result"
    }
   ],
   "source": [
    "x"
   ]
  },
  {
   "cell_type": "code",
   "execution_count": 56,
   "id": "825865de-48ea-4bbd-a0a2-dd5fb8727a76",
   "metadata": {},
   "outputs": [],
   "source": [
    "a = x.endswith('old')"
   ]
  },
  {
   "cell_type": "code",
   "execution_count": 57,
   "id": "2c25f7db-0e84-4257-b8e7-07d8b6ff3c71",
   "metadata": {},
   "outputs": [
    {
     "name": "stdout",
     "output_type": "stream",
     "text": [
      "True\n"
     ]
    }
   ],
   "source": [
    "print(a)"
   ]
  },
  {
   "cell_type": "code",
   "execution_count": 58,
   "id": "9c0225c7-15f3-4d20-aa0a-85d63182b511",
   "metadata": {},
   "outputs": [],
   "source": [
    "a = x.endswith('sandhya')"
   ]
  },
  {
   "cell_type": "code",
   "execution_count": 59,
   "id": "471921fa-d6d8-4580-afc3-366811705b0b",
   "metadata": {},
   "outputs": [
    {
     "name": "stdout",
     "output_type": "stream",
     "text": [
      "False\n"
     ]
    }
   ],
   "source": [
    "print(a)"
   ]
  },
  {
   "cell_type": "markdown",
   "id": "0af87c1d-1d5d-4e98-82fe-eabfe37c5fe8",
   "metadata": {},
   "source": [
    "19. Convert a string to title case (e.g., \"hello world\" to \"Hello World\")."
   ]
  },
  {
   "cell_type": "code",
   "execution_count": 60,
   "id": "8ad787d1-d125-4a94-84fb-0f0e188c9bf6",
   "metadata": {},
   "outputs": [
    {
     "data": {
      "text/plain": [
       "'hello world, my name is sandhya, i am 26 year old'"
      ]
     },
     "execution_count": 60,
     "metadata": {},
     "output_type": "execute_result"
    }
   ],
   "source": [
    "x"
   ]
  },
  {
   "cell_type": "code",
   "execution_count": 61,
   "id": "98fd1dc2-8e53-4eb2-b548-57c3a0a6a955",
   "metadata": {},
   "outputs": [
    {
     "data": {
      "text/plain": [
       "'Hello World, My Name Is Sandhya, I Am 26 Year Old'"
      ]
     },
     "execution_count": 61,
     "metadata": {},
     "output_type": "execute_result"
    }
   ],
   "source": [
    "x.title()"
   ]
  },
  {
   "cell_type": "markdown",
   "id": "c94b0278-1d29-40ff-8ee8-e192264531e5",
   "metadata": {},
   "source": [
    "20. Find the longest word in a string."
   ]
  },
  {
   "cell_type": "code",
   "execution_count": 5,
   "id": "e1befb77-962e-4914-b322-ad3d14f60f02",
   "metadata": {},
   "outputs": [],
   "source": [
    "text = \"hello world, my name is sandhya, i am 26 year old\""
   ]
  },
  {
   "cell_type": "code",
   "execution_count": 15,
   "id": "a0608ea6-ed34-4d5c-afc3-6a3505fb1d6d",
   "metadata": {},
   "outputs": [],
   "source": [
    "def find_longest_word(str):\n",
    "    words = text.split()\n",
    "    longest_word = \"\"\n",
    "    max_length = 0\n",
    "    for word in words:\n",
    "        max_length = len(words[0])\n",
    "        if len(word) > max_length:\n",
    "            longest_word = word\n",
    "    return longest_word"
   ]
  },
  {
   "cell_type": "code",
   "execution_count": 16,
   "id": "e105fcd5-9b55-4717-9fab-fff8891fa3cc",
   "metadata": {},
   "outputs": [],
   "source": [
    "longest_word = find_longest_word(text)"
   ]
  },
  {
   "cell_type": "code",
   "execution_count": 17,
   "id": "09872e39-af79-4d34-96ff-de784758e337",
   "metadata": {},
   "outputs": [
    {
     "name": "stdout",
     "output_type": "stream",
     "text": [
      "longest_word: sandhya,\n"
     ]
    }
   ],
   "source": [
    "print(\"longest_word:\", longest_word)"
   ]
  },
  {
   "cell_type": "markdown",
   "id": "3b7ba9b8-972c-4ace-87c7-1bbc9bccb467",
   "metadata": {},
   "source": [
    "21. Find the shortest word in a string."
   ]
  },
  {
   "cell_type": "code",
   "execution_count": 99,
   "id": "a8be4f87-6f24-4178-a52e-421c66b88df0",
   "metadata": {},
   "outputs": [],
   "source": [
    "text = \"hello world, my name is sandhya\""
   ]
  },
  {
   "cell_type": "code",
   "execution_count": 100,
   "id": "4856e879-d69c-46e5-93d7-6fca522395fc",
   "metadata": {},
   "outputs": [],
   "source": [
    "def find_shortest_word(text):\n",
    "    words = text.split()\n",
    "    shortest_word = None\n",
    "    min_length = float('inf')\n",
    "    for word in words:\n",
    "        min_length = len(words[0])\n",
    "        if len(word) < min_length:\n",
    "            shortest_word = word\n",
    "    return shortest_word"
   ]
  },
  {
   "cell_type": "code",
   "execution_count": 101,
   "id": "fe8370d7-78f2-401f-9ca9-998bb32277bc",
   "metadata": {},
   "outputs": [],
   "source": [
    "shortest_word = find_shortest_word(text)"
   ]
  },
  {
   "cell_type": "code",
   "execution_count": 102,
   "id": "98ec88d8-853e-476f-8722-8441da2584da",
   "metadata": {},
   "outputs": [
    {
     "name": "stdout",
     "output_type": "stream",
     "text": [
      "shortest_word: is\n"
     ]
    }
   ],
   "source": [
    "print(\"shortest_word:\", shortest_word)"
   ]
  },
  {
   "cell_type": "markdown",
   "id": "0ad6a046-5587-4df3-9251-bf9c181ee10b",
   "metadata": {},
   "source": [
    "22. Reverse the order of words in a string."
   ]
  },
  {
   "cell_type": "code",
   "execution_count": 105,
   "id": "86853b91-3f68-4850-85d6-b9543fb993e6",
   "metadata": {},
   "outputs": [],
   "source": [
    "s = \"hello world, my name is sandhya\" [: :-1]"
   ]
  },
  {
   "cell_type": "code",
   "execution_count": 106,
   "id": "f46a9037-9894-4fd8-bd4c-9099d94d0c2f",
   "metadata": {},
   "outputs": [
    {
     "data": {
      "text/plain": [
       "'ayhdnas si eman ym ,dlrow olleh'"
      ]
     },
     "execution_count": 106,
     "metadata": {},
     "output_type": "execute_result"
    }
   ],
   "source": [
    "s"
   ]
  },
  {
   "cell_type": "markdown",
   "id": "7c427ac1-fd6b-4786-a199-71aac6bb52d6",
   "metadata": {},
   "source": [
    "23. Check if a string is alphanumeric."
   ]
  },
  {
   "cell_type": "code",
   "execution_count": 107,
   "id": "34bfff1f-c197-4b7f-9a42-e11c271a3031",
   "metadata": {},
   "outputs": [],
   "source": [
    "x = \"sandhya\""
   ]
  },
  {
   "cell_type": "code",
   "execution_count": 108,
   "id": "d29908d3-47f7-4228-8be7-8540248c95d5",
   "metadata": {},
   "outputs": [
    {
     "data": {
      "text/plain": [
       "True"
      ]
     },
     "execution_count": 108,
     "metadata": {},
     "output_type": "execute_result"
    }
   ],
   "source": [
    "x.isalnum()"
   ]
  },
  {
   "cell_type": "markdown",
   "id": "a2acc186-4e79-49f4-b09b-b12cbdf1e82e",
   "metadata": {},
   "source": [
    "24. Extract all digits from a string."
   ]
  },
  {
   "cell_type": "code",
   "execution_count": 3,
   "id": "e56fbf43-ce4c-4efc-9312-b2f65569dfc6",
   "metadata": {},
   "outputs": [
    {
     "name": "stdout",
     "output_type": "stream",
     "text": [
      "original string: sandhya123patil567\n",
      "extracted numbers from the list: 123567\n"
     ]
    }
   ],
   "source": [
    "inp_str = \"sandhya123patil567\"\n",
    "print(\"original string: \" + inp_str)\n",
    "num = \"\"\n",
    "for c in inp_str:\n",
    "    if c.isdigit():\n",
    "        num = num + c\n",
    "print(\"extracted numbers from the list: \" + num)"
   ]
  },
  {
   "cell_type": "markdown",
   "id": "48fced6e-1ac7-427c-8374-3912400f6c92",
   "metadata": {},
   "source": [
    "25. Extract all alphabets from a string."
   ]
  },
  {
   "cell_type": "code",
   "execution_count": 4,
   "id": "0d412b9e-6014-4a76-9e72-c6b253f6ffc0",
   "metadata": {},
   "outputs": [
    {
     "name": "stdin",
     "output_type": "stream",
     "text": [
      "enter a string:  study3459hard97\n"
     ]
    },
    {
     "name": "stdout",
     "output_type": "stream",
     "text": [
      "studyhard\n"
     ]
    }
   ],
   "source": [
    "string = input(\"enter a string: \")\n",
    "only_alpha = \"\"\n",
    "for char in string:\n",
    "    if char.isalpha():\n",
    "        only_alpha += char\n",
    "print(only_alpha)"
   ]
  },
  {
   "cell_type": "markdown",
   "id": "8b00b1cb-e9c2-4006-bb91-8b5224ac6570",
   "metadata": {},
   "source": [
    "26. Count the number of uppercase letters in a string.\n",
    "27. Count the number of lowercase letters in a string."
   ]
  },
  {
   "cell_type": "code",
   "execution_count": 9,
   "id": "833b1b86-ebff-4f02-830a-5ae933d5a414",
   "metadata": {},
   "outputs": [
    {
     "name": "stdout",
     "output_type": "stream",
     "text": [
      "the number of uppercase is: 3\n",
      "the number of lowercase is: 10\n"
     ]
    }
   ],
   "source": [
    "s = \"Sandhya Patil\"\n",
    "lower=0\n",
    "upper=0\n",
    "for i in s:\n",
    "    if(i.islower()):\n",
    "        lower+=1\n",
    "    else:\n",
    "        upper+=1\n",
    "print(\"the number of uppercase is:\",upper)\n",
    "print(\"the number of lowercase is:\",lower)"
   ]
  },
  {
   "cell_type": "markdown",
   "id": "2d4faa0e-42df-41cc-a20a-4991f15c1864",
   "metadata": {},
   "source": [
    "28. Swap the case of each character in a string."
   ]
  },
  {
   "cell_type": "code",
   "execution_count": 12,
   "id": "2b6d8cc5-09d4-4bc0-827a-ba4b9d68040b",
   "metadata": {},
   "outputs": [
    {
     "name": "stdout",
     "output_type": "stream",
     "text": [
      "I am Sandhya Patil\n"
     ]
    }
   ],
   "source": [
    "x = \"i AM sANDHYA pATIL\"\n",
    "print(x.swapcase())"
   ]
  },
  {
   "cell_type": "markdown",
   "id": "b92f070b-51b6-4206-881b-ceb858e070f2",
   "metadata": {},
   "source": [
    "29. Remove a specific word from a string."
   ]
  },
  {
   "cell_type": "code",
   "execution_count": 19,
   "id": "4ff25853-1767-489a-995c-01c3f47a250d",
   "metadata": {},
   "outputs": [
    {
     "name": "stdout",
     "output_type": "stream",
     "text": [
      "i love  country\n"
     ]
    }
   ],
   "source": [
    "w = \"i love this country\"\n",
    "print(w.replace(\"this\",\"\"))"
   ]
  },
  {
   "cell_type": "markdown",
   "id": "d4ffee80-3020-4193-ac80-dbbbc83e144b",
   "metadata": {},
   "source": [
    "30. Check if a string is a valid email address."
   ]
  },
  {
   "cell_type": "code",
   "execution_count": 15,
   "id": "bea3047d-f3e4-4fa2-9e7f-5038ba5f66c0",
   "metadata": {},
   "outputs": [
    {
     "name": "stdout",
     "output_type": "stream",
     "text": [
      "True\n",
      "False\n"
     ]
    }
   ],
   "source": [
    "import re\n",
    "def is_valid_email(email):\n",
    "    pattern = r'[\\w\\.-]+@[\\w\\.-]+\\.\\w+$'\n",
    "    if re.match(pattern, email):\n",
    "        return True\n",
    "    else:\n",
    "        return False\n",
    "email1 = \"sandhya@email.com\"\n",
    "email2 = \"tendulkar-s\"\n",
    "result1 =  is_valid_email(email1)\n",
    "result2 =  is_valid_email(email2)\n",
    "print(result1)\n",
    "print(result2)"
   ]
  },
  {
   "cell_type": "markdown",
   "id": "8c4f62b1-29e5-4336-8e32-57c708685762",
   "metadata": {},
   "source": [
    "31. Extract the username from an email address string."
   ]
  },
  {
   "cell_type": "code",
   "execution_count": 6,
   "id": "b60515c4-9a62-4edc-9717-70058cbee168",
   "metadata": {},
   "outputs": [
    {
     "name": "stdout",
     "output_type": "stream",
     "text": [
      "sandhya\n"
     ]
    }
   ],
   "source": [
    "def extract_username(email):\n",
    "    username = email.split('@')[0]\n",
    "    return username\n",
    "email = \"sandhya@email.com\"\n",
    "result = extract_username(email)\n",
    "print(result)"
   ]
  },
  {
   "cell_type": "markdown",
   "id": "5c9fb998-e98e-4fdc-b2ac-835bd6c57369",
   "metadata": {},
   "source": [
    "32. Extract the domain name from an email address string."
   ]
  },
  {
   "cell_type": "code",
   "execution_count": 17,
   "id": "4a3f36ad-19fb-4f4d-bc08-151e8009cfb6",
   "metadata": {},
   "outputs": [
    {
     "name": "stdout",
     "output_type": "stream",
     "text": [
      "email.com\n"
     ]
    }
   ],
   "source": [
    "def extract_domain(email):\n",
    "    domain = email.split('@')[1]\n",
    "    return domain\n",
    "email = \"kohli@email.com\"\n",
    "result = extract_domain(email)\n",
    "print(result)"
   ]
  },
  {
   "cell_type": "markdown",
   "id": "58e5884a-d642-4574-8fba-fde27bc337e3",
   "metadata": {},
   "source": [
    "33. Replace multiple spaces in a string with a single space."
   ]
  },
  {
   "cell_type": "code",
   "execution_count": 19,
   "id": "78fdef0c-2a81-4304-91da-797c234e48a6",
   "metadata": {},
   "outputs": [
    {
     "name": "stdout",
     "output_type": "stream",
     "text": [
      "hi folks! welcome\n"
     ]
    }
   ],
   "source": [
    "def replace_multiple_spaces(x):\n",
    "    str = ' '.join(x.split())\n",
    "    return str\n",
    "x = \"   hi    folks!  welcome   \"\n",
    "result = replace_multiple_spaces(x)\n",
    "print(result)"
   ]
  },
  {
   "cell_type": "markdown",
   "id": "7561116b-4eab-4965-88b1-6d0e9cfbc7ee",
   "metadata": {},
   "source": [
    "34. Check if a string is a valid URL."
   ]
  },
  {
   "cell_type": "code",
   "execution_count": 4,
   "id": "e8a08d6c-0525-48a5-8992-ad2c20eab447",
   "metadata": {},
   "outputs": [
    {
     "name": "stdout",
     "output_type": "stream",
     "text": [
      "False\n",
      "True\n"
     ]
    }
   ],
   "source": [
    "from urllib.parse import urlparse\n",
    "def valid_url(x):\n",
    "    try:\n",
    "        result = urlparse(x)\n",
    "        return all([result.scheme, result.netloc])\n",
    "    except(ValueError):\n",
    "        return False\n",
    "x1 = \"www.pwskills.com\"\n",
    "x2 = \"https://www.pwskills.com\"\n",
    "result1 = valid_url(x1)\n",
    "result2 = valid_url(x2)\n",
    "print(result1)\n",
    "print(result2)"
   ]
  },
  {
   "cell_type": "markdown",
   "id": "175c4204-3a43-4739-9e66-ed9751101dfc",
   "metadata": {},
   "source": [
    "35. Extract the protocol (http or https) from a URL string."
   ]
  },
  {
   "cell_type": "code",
   "execution_count": 27,
   "id": "6b870dc2-793f-46b3-bfb5-6632c8a91041",
   "metadata": {},
   "outputs": [
    {
     "name": "stdout",
     "output_type": "stream",
     "text": [
      "Protocol 1: https\n",
      "Protocol 2: http\n"
     ]
    }
   ],
   "source": [
    "def extract_protocol(url):\n",
    "    protocol_end = url.find(\"://\")\n",
    "    if protocol_end != -1:\n",
    "        protocol = url[:protocol_end]\n",
    "        return protocol\n",
    "    else:\n",
    "        return None\n",
    "url1 = \"https://www.pwskills.com\"\n",
    "url2 = \"http://www.index.com\"\n",
    "protocol1 = extract_protocol(url1)\n",
    "protocol2 = extract_protocol(url2)\n",
    "print(\"Protocol 1:\", protocol1)\n",
    "print(\"Protocol 2:\", protocol2)"
   ]
  },
  {
   "cell_type": "markdown",
   "id": "6071ae8a-0a2b-46ed-9cda-670757e51a94",
   "metadata": {},
   "source": [
    "36. Find the frequency of each character in a string."
   ]
  },
  {
   "cell_type": "code",
   "execution_count": 11,
   "id": "8477f33b-b488-42c0-a11b-2ab5a45315b5",
   "metadata": {},
   "outputs": [
    {
     "name": "stdout",
     "output_type": "stream",
     "text": [
      "character: 'h', Frequency:1\n",
      "character: 'i', Frequency:2\n",
      "character: ' ', Frequency:1\n",
      "character: 'f', Frequency:1\n",
      "character: 'o', Frequency:1\n",
      "character: 'l', Frequency:1\n",
      "character: 'k', Frequency:1\n",
      "character: 's', Frequency:2\n"
     ]
    }
   ],
   "source": [
    "def character_frequency(input_string):\n",
    "    frequency = {}\n",
    "    for char in input_string:\n",
    "        if char in frequency:\n",
    "            frequency[char] += 1\n",
    "        else:\n",
    "            frequency[char] =1\n",
    "    return frequency\n",
    "input_string = \"hii folkss\"\n",
    "char_freq = character_frequency(input_string)\n",
    "for char, freq in char_freq.items():\n",
    "    print(f\"character: '{char}', Frequency:{freq}\")"
   ]
  },
  {
   "cell_type": "markdown",
   "id": "f245a48e-6621-4c9d-bc6c-19dd3ccede17",
   "metadata": {},
   "source": [
    "37. Remove all punctuation from a string."
   ]
  },
  {
   "cell_type": "code",
   "execution_count": 20,
   "id": "5dc4e130-74c2-47fe-b79a-0420b8a21704",
   "metadata": {},
   "outputs": [
    {
     "name": "stdout",
     "output_type": "stream",
     "text": [
      "original_string: hii! folkss, how's it going?\n",
      "cleaned_string: hii folkss hows it going\n"
     ]
    }
   ],
   "source": [
    "import string\n",
    "def remove_punctuation(input_string):\n",
    "    translator = str.maketrans(\"\", \"\", string.punctuation)\n",
    "    clean_string = input_string.translate(translator)\n",
    "    return clean_string\n",
    "input_str = \"hii! folkss, how's it going?\"\n",
    "cleaned_str = remove_punctuation(input_str)\n",
    "print(\"original_string:\",input_str)\n",
    "print(\"cleaned_string:\", cleaned_str)"
   ]
  },
  {
   "cell_type": "markdown",
   "id": "3298e3d3-c711-42cd-9707-cbac8a49ac9b",
   "metadata": {},
   "source": [
    "38. Check if a string contains only digits."
   ]
  },
  {
   "cell_type": "code",
   "execution_count": 3,
   "id": "13c6a1e6-ee3a-415b-b4b3-1a1182bd768c",
   "metadata": {},
   "outputs": [
    {
     "name": "stdout",
     "output_type": "stream",
     "text": [
      "'sandy34567' contains_only_digits: False\n",
      "'1567' contains_only_digits: True\n"
     ]
    }
   ],
   "source": [
    "def contains_only_digits(input_string):\n",
    "    return input_string.isdigit()\n",
    "x1 = \"sandy34567\"\n",
    "x2 = \"1567\"\n",
    "result1 = contains_only_digits(x1)\n",
    "result2 = contains_only_digits(x2)\n",
    "print(f\"'{x1}' contains_only_digits:\", result1)\n",
    "print(f\"'{x2}' contains_only_digits:\", result2)"
   ]
  },
  {
   "cell_type": "markdown",
   "id": "164a3016-54dd-4eda-b0eb-a48cf26e74f4",
   "metadata": {},
   "source": [
    "39. Check if a string contains only alphabets."
   ]
  },
  {
   "cell_type": "code",
   "execution_count": 4,
   "id": "164d5550-c457-493c-93fd-d3deb0b72a53",
   "metadata": {},
   "outputs": [
    {
     "name": "stdout",
     "output_type": "stream",
     "text": [
      "'sandy' contains_only_alphabets: True\n",
      "'1567' contains_only_alphabets: False\n"
     ]
    }
   ],
   "source": [
    "def contains_only_alphabets(input_string):\n",
    "    return input_string.isalpha()\n",
    "x1 = \"sandy\"\n",
    "x2 = \"1567\"\n",
    "result1 = contains_only_alphabets(x1)\n",
    "result2 = contains_only_alphabets(x2)\n",
    "print(f\"'{x1}' contains_only_alphabets:\", result1)\n",
    "print(f\"'{x2}' contains_only_alphabets:\", result2)"
   ]
  },
  {
   "cell_type": "markdown",
   "id": "bc8d18b0-8e18-41b8-8101-386c80876e11",
   "metadata": {},
   "source": [
    "40. Convert a string to a list of characters."
   ]
  },
  {
   "cell_type": "code",
   "execution_count": 2,
   "id": "7c195996-acd8-4924-8c5f-4e51e5ca117f",
   "metadata": {},
   "outputs": [
    {
     "data": {
      "text/plain": [
       "['I', ' ', 'a', 'm', ' ', 's', 'a', 'n', 'd', 'h', 'y', 'a']"
      ]
     },
     "execution_count": 2,
     "metadata": {},
     "output_type": "execute_result"
    }
   ],
   "source": [
    "x = \"I am sandhya\"\n",
    "list(x)"
   ]
  },
  {
   "cell_type": "markdown",
   "id": "262d1beb-39d8-4722-a012-d950888e280f",
   "metadata": {},
   "source": [
    "41. Check if two strings are anagrams."
   ]
  },
  {
   "cell_type": "code",
   "execution_count": 4,
   "id": "c453efc3-c045-4bf6-9086-78babfde4340",
   "metadata": {},
   "outputs": [
    {
     "name": "stdout",
     "output_type": "stream",
     "text": [
      "'earth' and 'heart' anagrams: True\n",
      "'reminder' and 'calender' anagrams: False\n"
     ]
    }
   ],
   "source": [
    "def anagrams(x1,x2):\n",
    "    x1 = x1.replace(\" \",\"\").lower()\n",
    "    x2 = x2.replace(\" \",\"\").lower()\n",
    "    return sorted(x1) == sorted(x2)\n",
    "x1 = \"earth\"\n",
    "x2 = \"heart\"\n",
    "x3 = \"reminder\"\n",
    "x4 = \"calender\"\n",
    "result1 = anagrams(x1,x2)\n",
    "result2 = anagrams(x3,x4)\n",
    "print(f\"'{x1}' and '{x2}' anagrams:\", result1)\n",
    "print(f\"'{x3}' and '{x4}' anagrams:\", result2)"
   ]
  },
  {
   "cell_type": "markdown",
   "id": "4512e2ce-d762-48db-b9c1-a1e2097a1840",
   "metadata": {},
   "source": [
    "42. Encode a string using a Caesar cipher."
   ]
  },
  {
   "cell_type": "code",
   "execution_count": 7,
   "id": "ed5a46f7-adb6-4c16-abe9-428d93f72bcb",
   "metadata": {},
   "outputs": [],
   "source": [
    "def Caesar_cipher(text, shift):\n",
    "    \"\"\"\n",
    "    Args:\n",
    "        text: The string to encode.\n",
    "        shift: The number of positions to shift each letter.\n",
    "    Returns:\n",
    "        The encoded string.\n",
    "    \"\"\""
   ]
  },
  {
   "cell_type": "code",
   "execution_count": 15,
   "id": "01af4106-ea5e-46de-895c-e64b8edb6d43",
   "metadata": {},
   "outputs": [
    {
     "name": "stdout",
     "output_type": "stream",
     "text": [
      "Text:hii! my age is 26\n",
      "Shift:4\n",
      "cipher:lmmsrqcrekirmwrjn\n"
     ]
    }
   ],
   "source": [
    "def encode(text,s):\n",
    "    result = \"\"\n",
    "    for i in range(len(text)):\n",
    "        char = text[i]\n",
    "        if (char.isupper()):\n",
    "            result += chr((ord(char) + s-65) % 26 + 65)\n",
    "        else:\n",
    "            result += chr((ord(char) + s-97) % 26 + 97)\n",
    "    return result\n",
    "text = \"hii! my age is 26\"\n",
    "s = 4\n",
    "print(\"Text:\" + text)\n",
    "print(\"Shift:\" + str(s))\n",
    "print(\"cipher:\" + encode(text,s))"
   ]
  },
  {
   "cell_type": "markdown",
   "id": "061d6405-e1cc-46b7-800d-e259450b5b70",
   "metadata": {},
   "source": [
    "43. Decode a Caesar cipher encoded string."
   ]
  },
  {
   "cell_type": "code",
   "execution_count": 26,
   "id": "cd4e0d89-0703-4e11-901e-91b469751ae7",
   "metadata": {},
   "outputs": [
    {
     "name": "stdout",
     "output_type": "stream",
     "text": [
      "Text:debkhgo\n",
      "Shift:4\n",
      "cipher:hifolks\n"
     ]
    }
   ],
   "source": [
    "def decode(text,s):\n",
    "    result = \"\"\n",
    "    for i in range(len(text)):\n",
    "        char = text[i]\n",
    "        if (char.isupper()):\n",
    "            result += chr((ord(char) + s-65) % 26 + 65)\n",
    "        else:\n",
    "            result += chr((ord(char) + s-97) % 26 + 97)\n",
    "    return result\n",
    "text = \"debkhgo\"\n",
    "s = 4\n",
    "print(\"Text:\" + text)\n",
    "print(\"Shift:\" + str(s))\n",
    "print(\"cipher:\" + decode(text,s))"
   ]
  },
  {
   "cell_type": "markdown",
   "id": "5e1baf7e-77a3-466d-8cfa-bc918f1ec3d5",
   "metadata": {},
   "source": [
    "44. Find the most frequent word in a string."
   ]
  },
  {
   "cell_type": "code",
   "execution_count": 16,
   "id": "80d89e0b-2f70-4627-8719-14f9c15a7e40",
   "metadata": {},
   "outputs": [
    {
     "name": "stdout",
     "output_type": "stream",
     "text": [
      "The original list is : ['hello world, hello peoples!']\n"
     ]
    }
   ],
   "source": [
    "from statistics import mode\n",
    "test_list = [\"hello world, hello peoples!\"]\n",
    "print(\"The original list is : \" + str(test_list))"
   ]
  },
  {
   "cell_type": "code",
   "execution_count": 18,
   "id": "a1530293-1ec2-4a25-a164-965286940cf1",
   "metadata": {},
   "outputs": [
    {
     "name": "stdout",
     "output_type": "stream",
     "text": [
      "Word with maximum frequency : hello\n"
     ]
    }
   ],
   "source": [
    "temp = [wrd for sub in test_list for wrd in sub.split()]\n",
    "res = mode(temp)\n",
    "print(\"Word with maximum frequency : \" + str(res))"
   ]
  },
  {
   "cell_type": "markdown",
   "id": "5efb0ebd-a170-47de-8fd3-0abedb8a706d",
   "metadata": {},
   "source": [
    "45. Find all unique words in a string."
   ]
  },
  {
   "cell_type": "code",
   "execution_count": 21,
   "id": "e01c6957-3ce8-46bd-92e5-f966c0ce80c4",
   "metadata": {},
   "outputs": [
    {
     "name": "stdout",
     "output_type": "stream",
     "text": [
      "peoples!\n",
      "hello\n",
      "world,\n"
     ]
    }
   ],
   "source": [
    "def printWords(l):\n",
    "    for i in l:\n",
    "        print(i)\n",
    "str = \"hello world, hello peoples!\"\n",
    "s = set(str.split(\" \"))\n",
    "printWords(s)"
   ]
  },
  {
   "cell_type": "markdown",
   "id": "6494ef76-d531-4495-8ffe-5ec45e235e82",
   "metadata": {},
   "source": [
    "46. Count the number of syllables in a string."
   ]
  },
  {
   "cell_type": "code",
   "execution_count": 2,
   "id": "f2f112b5-e9dc-4e31-8413-c1b25cd79825",
   "metadata": {},
   "outputs": [
    {
     "name": "stdout",
     "output_type": "stream",
     "text": [
      "'hi peoples' has 3 syllables.\n"
     ]
    }
   ],
   "source": [
    "import re\n",
    "def count_syllables(word):\n",
    "    vowel_group = re.findall(r'[aeiouy]+', word, re.IGNORECASE)\n",
    "    return len(vowel_group)\n",
    "word1 = \"hi peoples\"\n",
    "syllables1 = count_syllables(word1)\n",
    "print(f\"'{word1}' has {syllables1} syllables.\")"
   ]
  },
  {
   "cell_type": "markdown",
   "id": "9cc4a5af-c1a1-4cd0-a911-e35cbb6d8678",
   "metadata": {},
   "source": [
    "47. Check if a string contains any special characters."
   ]
  },
  {
   "cell_type": "code",
   "execution_count": 5,
   "id": "8bd5fda2-7843-4c88-a16c-456619d24566",
   "metadata": {},
   "outputs": [
    {
     "name": "stdout",
     "output_type": "stream",
     "text": [
      "String is not accepted\n"
     ]
    }
   ],
   "source": [
    "import string\n",
    " \n",
    "def check_string(s):\n",
    "    for i in s:\n",
    "        if i in string.punctuation:\n",
    "            print(\"String is not accepted\")\n",
    "        return\n",
    "    print(\"String is accepted\")\n",
    "check_string(\"$andhya patil\")"
   ]
  },
  {
   "cell_type": "markdown",
   "id": "572006a9-5138-44f3-9456-c42ee15ca6ff",
   "metadata": {},
   "source": [
    "48. Remove the nth word from a string."
   ]
  },
  {
   "cell_type": "code",
   "execution_count": 16,
   "id": "25545608-c2da-44e3-9b0a-77ae70233491",
   "metadata": {},
   "outputs": [
    {
     "name": "stdout",
     "output_type": "stream",
     "text": [
      "original_string: i love my india\n",
      "modified_string: i love india\n"
     ]
    }
   ],
   "source": [
    "def remove_nth_word(input_string, n):\n",
    "    words = input_string.split()\n",
    "    if n>=1 and n<=len(words):\n",
    "        remove_word=words.pop(n-1)\n",
    "        modified_string=' '.join(words)\n",
    "        return modified_string, remove_word\n",
    "    else:\n",
    "        return None, None\n",
    "input_string= \"i love my india\"\n",
    "n_value= 3\n",
    "modified_string, remove_word= remove_nth_word(input_string, n_value)\n",
    "print(\"original_string:\", input_string)\n",
    "if modified_string is not None:\n",
    "    print(\"modified_string:\", modified_string)\n",
    "else:\n",
    "    print(\"removed_word:\", removed_word)"
   ]
  },
  {
   "cell_type": "markdown",
   "id": "6cdf3a94-4561-463a-8af5-06f61f86279c",
   "metadata": {},
   "source": [
    "49. Insert a word at the nth position in a string."
   ]
  },
  {
   "cell_type": "code",
   "execution_count": 15,
   "id": "058c863a-c25c-458e-be6c-f3908247c7fe",
   "metadata": {},
   "outputs": [
    {
     "name": "stdout",
     "output_type": "stream",
     "text": [
      "original_string: i love india\n",
      "modified_string: i love my india\n"
     ]
    }
   ],
   "source": [
    "def insert_word_at_n(input_string, word_to_insert, n):\n",
    "    words = input_string.split()\n",
    "    if n>=0 and n<=len(words):\n",
    "        words.insert(n, word_to_insert)\n",
    "        modified_string=' '.join(words)\n",
    "        return modified_string\n",
    "    else:\n",
    "        return None\n",
    "input_string= \"i love india\"\n",
    "word_to_insert= \"my\"\n",
    "n_value= 2\n",
    "modified_string=insert_word_at_n(input_string, word_to_insert, n_value)\n",
    "print(\"original_string:\", input_string)\n",
    "if modified_string is not None:\n",
    "    print(\"modified_string:\", modified_string)\n",
    "else:\n",
    "    print(\"invalid n value\")"
   ]
  },
  {
   "cell_type": "markdown",
   "id": "66ca788e-89be-4b6f-b701-983e4f5b6501",
   "metadata": {},
   "source": [
    "50. Convert a CSV string to a list of lists."
   ]
  },
  {
   "cell_type": "code",
   "execution_count": 25,
   "id": "7205da98-788b-4f85-a84e-7f4aa7edabc0",
   "metadata": {},
   "outputs": [
    {
     "name": "stdout",
     "output_type": "stream",
     "text": [
      "The original list is : ['[1, 4, 5]', '[4, 6, 8]']\n",
      "The list after conversion is : [['1', '4', '5'], ['4', '6', '8']]\n"
     ]
    }
   ],
   "source": [
    "test_list = ['[1, 4, 5]', '[4, 6, 8]']\n",
    "print(\"The original list is : \" + str(test_list))\n",
    "res = [re.findall('[0-9]', i) for i in test_list]\n",
    "print(\"The list after conversion is : \" + str(res))"
   ]
  },
  {
   "cell_type": "raw",
   "id": "e67f71ae-175a-417b-986e-272ff100663d",
   "metadata": {},
   "source": [
    "List Based Practice Problem :"
   ]
  },
  {
   "cell_type": "markdown",
   "id": "723413da-1723-495d-82e2-87cf702ea1f9",
   "metadata": {},
   "source": [
    "1. Create a list with integers from 1 to 10."
   ]
  },
  {
   "cell_type": "code",
   "execution_count": 29,
   "id": "0a044144-5197-4057-ab7a-39b2465ed2b6",
   "metadata": {},
   "outputs": [
    {
     "data": {
      "text/plain": [
       "[1, 2, 3, 4, 5, 6, 7, 8, 9, 10]"
      ]
     },
     "execution_count": 29,
     "metadata": {},
     "output_type": "execute_result"
    }
   ],
   "source": [
    "list(range(1,11))"
   ]
  },
  {
   "cell_type": "markdown",
   "id": "53c515bb-3bbc-4b7d-a2c0-2fc7bb4b9a2f",
   "metadata": {},
   "source": [
    "2. Find the length of a list without using the `len()` function."
   ]
  },
  {
   "cell_type": "code",
   "execution_count": 2,
   "id": "6d924c4a-575b-4d80-80f9-b508f46edb08",
   "metadata": {},
   "outputs": [
    {
     "name": "stdout",
     "output_type": "stream",
     "text": [
      "the length of x is 13\n"
     ]
    }
   ],
   "source": [
    "x = \"united states\"\n",
    "i = 0\n",
    "for w in x :\n",
    "    i += 1\n",
    "print(\"the length of x is \" + str(i))"
   ]
  },
  {
   "cell_type": "markdown",
   "id": "b3d89c5e-ea23-4373-9f12-ba6d304c5864",
   "metadata": {},
   "source": [
    "3. Append an element to the end of a list."
   ]
  },
  {
   "cell_type": "code",
   "execution_count": 2,
   "id": "4228e22a-462b-4afe-a0c2-661154043e1d",
   "metadata": {},
   "outputs": [
    {
     "name": "stdout",
     "output_type": "stream",
     "text": [
      "updated_list: [1, 2, 3, 4, 5]\n"
     ]
    }
   ],
   "source": [
    "my_list=[1,2,3,4]\n",
    "new_element=5\n",
    "my_list.append(new_element)\n",
    "print(\"updated_list:\", my_list)"
   ]
  },
  {
   "cell_type": "markdown",
   "id": "2ce4f0c8-0faf-4ba0-9354-4b12b0f3cc2c",
   "metadata": {},
   "source": [
    "4. Insert an element at a specific index in a list."
   ]
  },
  {
   "cell_type": "code",
   "execution_count": 4,
   "id": "3a949351-1c2b-45da-9e00-8048e8002e1e",
   "metadata": {},
   "outputs": [
    {
     "name": "stdout",
     "output_type": "stream",
     "text": [
      "updated_list: [15, 20, 30, 40, 45]\n"
     ]
    }
   ],
   "source": [
    "my_list=[15,20,30,40]\n",
    "new_element=45\n",
    "index_to_insert=5\n",
    "my_list.insert(index_to_insert, new_element)\n",
    "print(\"updated_list:\", my_list)"
   ]
  },
  {
   "cell_type": "markdown",
   "id": "43570a5c-7e89-49f5-81f9-2005a3fe826e",
   "metadata": {},
   "source": [
    "5. Remove an element from a list by its value."
   ]
  },
  {
   "cell_type": "code",
   "execution_count": 5,
   "id": "15d02ca1-fab7-4702-9c93-8c9e27f21d09",
   "metadata": {},
   "outputs": [
    {
     "name": "stdout",
     "output_type": "stream",
     "text": [
      "updated_list: [15, 20, 40]\n"
     ]
    }
   ],
   "source": [
    "my_list=[15,20,30,40]\n",
    "element_to_remove=30\n",
    "my_list.remove(element_to_remove)\n",
    "print(\"updated_list:\", my_list)"
   ]
  },
  {
   "cell_type": "markdown",
   "id": "9db0c5ef-dd34-4fea-85be-7c832da9d817",
   "metadata": {},
   "source": [
    "6. Remove an element from a list by its index."
   ]
  },
  {
   "cell_type": "code",
   "execution_count": 9,
   "id": "09c06a2d-0b94-4b08-9abf-33dcba5dfd70",
   "metadata": {},
   "outputs": [
    {
     "name": "stdout",
     "output_type": "stream",
     "text": [
      "updated_list: [15, 20, 40]\n",
      "removed_element: 30\n"
     ]
    }
   ],
   "source": [
    "my_list=[15,20,30,40]\n",
    "index_to_remove=2\n",
    "removed_element = my_list.pop(index_to_remove)\n",
    "print(\"updated_list:\", my_list)\n",
    "print(\"removed_element:\", removed_element)"
   ]
  },
  {
   "cell_type": "markdown",
   "id": "6ce7ea31-c965-42c7-b1c7-095b5789685a",
   "metadata": {},
   "source": [
    "7. Check if an element exists in a list."
   ]
  },
  {
   "cell_type": "code",
   "execution_count": 15,
   "id": "baabd026-f3f6-493d-8507-7c1c909c5390",
   "metadata": {},
   "outputs": [
    {
     "name": "stdout",
     "output_type": "stream",
     "text": [
      "check_element exist in list\n"
     ]
    }
   ],
   "source": [
    "my_list=[15,20,30,40]\n",
    "check_element=30\n",
    "if check_element in my_list:\n",
    "    print(f'{\"check_element\"} exist in list')\n",
    "else:\n",
    "    print(f'{\"check_element\"} not exist in list')"
   ]
  },
  {
   "cell_type": "code",
   "execution_count": 17,
   "id": "288bb564-8436-4788-b487-4fa646baa140",
   "metadata": {},
   "outputs": [
    {
     "name": "stdout",
     "output_type": "stream",
     "text": [
      "check_element not exist in list\n"
     ]
    }
   ],
   "source": [
    "my_list=[15,20,30,40]\n",
    "check_element=50\n",
    "if check_element in my_list:\n",
    "    print(f'{\"check_element\"} exist in list')\n",
    "else:\n",
    "    print(f'{\"check_element\"} not exist in list')"
   ]
  },
  {
   "cell_type": "markdown",
   "id": "9f90737a-ff83-4b57-85fd-07aa3982a175",
   "metadata": {},
   "source": [
    "8. Find the index of the first occurrence of an element in a list."
   ]
  },
  {
   "cell_type": "code",
   "execution_count": 4,
   "id": "da2a1b3b-82b5-4699-9062-98231d48cb9d",
   "metadata": {},
   "outputs": [
    {
     "name": "stdout",
     "output_type": "stream",
     "text": [
      "element_to_find is 5\n"
     ]
    }
   ],
   "source": [
    "my_list=[15,20,30,40,50,60,80]\n",
    "element_to_find= 60\n",
    "index = my_list.index(element_to_find)\n",
    "print(f'{\"element_to_find\"} is {index}')"
   ]
  },
  {
   "cell_type": "markdown",
   "id": "f03adc07-449a-4a4b-b137-be9032e533e6",
   "metadata": {},
   "source": [
    "9. Count the occurrences of an element in a list."
   ]
  },
  {
   "cell_type": "code",
   "execution_count": 7,
   "id": "f1e757f0-8ff5-4f1f-b8fe-a7c6c3d28f2a",
   "metadata": {},
   "outputs": [
    {
     "name": "stdout",
     "output_type": "stream",
     "text": [
      "element_to_find is 1\n"
     ]
    }
   ],
   "source": [
    "my_list=[15,20,30,40,50,60,80]\n",
    "element_to_find= 40\n",
    "count = my_list.count(element_to_find)\n",
    "print(f'{\"element_to_find\"} is {count}')"
   ]
  },
  {
   "cell_type": "markdown",
   "id": "2d3dafb9-06f7-45fb-b9f2-e5afd89cfa88",
   "metadata": {},
   "source": [
    "10. Reverse the order of elements in a list."
   ]
  },
  {
   "cell_type": "code",
   "execution_count": 8,
   "id": "07e8bee7-3f66-4a1b-8aea-e7160e63092f",
   "metadata": {},
   "outputs": [],
   "source": [
    "my_list=[15,20,30,40,50,60,80]\n",
    "my_list.reverse()"
   ]
  },
  {
   "cell_type": "code",
   "execution_count": 9,
   "id": "8df952f4-c80b-4eb0-bcd8-d65da99316bf",
   "metadata": {},
   "outputs": [
    {
     "data": {
      "text/plain": [
       "[80, 60, 50, 40, 30, 20, 15]"
      ]
     },
     "execution_count": 9,
     "metadata": {},
     "output_type": "execute_result"
    }
   ],
   "source": [
    "my_list"
   ]
  },
  {
   "cell_type": "markdown",
   "id": "c1c61f33-2761-4c21-86f6-2f534910a5e3",
   "metadata": {},
   "source": [
    "11. Sort a list in ascending order."
   ]
  },
  {
   "cell_type": "code",
   "execution_count": 10,
   "id": "eeac8216-45ea-4202-8a81-76f1c9e29a19",
   "metadata": {},
   "outputs": [],
   "source": [
    "my_list=[15,40,30,90,50,60,80]\n",
    "my_list.sort()"
   ]
  },
  {
   "cell_type": "code",
   "execution_count": 11,
   "id": "b2688381-fb77-4fac-bb7e-c649596fe940",
   "metadata": {},
   "outputs": [
    {
     "data": {
      "text/plain": [
       "[15, 30, 40, 50, 60, 80, 90]"
      ]
     },
     "execution_count": 11,
     "metadata": {},
     "output_type": "execute_result"
    }
   ],
   "source": [
    "my_list"
   ]
  },
  {
   "cell_type": "markdown",
   "id": "20106562-2fad-4aa5-8961-d58d0f2a00cb",
   "metadata": {},
   "source": [
    "12. Sort a list in descending order."
   ]
  },
  {
   "cell_type": "code",
   "execution_count": 12,
   "id": "6bc74e2a-dcfe-4d7e-a2e7-21095a5988f6",
   "metadata": {},
   "outputs": [],
   "source": [
    "my_list=[15,40,30,90,50,60,80]\n",
    "my_list.sort(reverse=True)"
   ]
  },
  {
   "cell_type": "code",
   "execution_count": 13,
   "id": "1e21f2d9-6a18-41f2-94c4-fa75e3459f54",
   "metadata": {},
   "outputs": [
    {
     "data": {
      "text/plain": [
       "[90, 80, 60, 50, 40, 30, 15]"
      ]
     },
     "execution_count": 13,
     "metadata": {},
     "output_type": "execute_result"
    }
   ],
   "source": [
    "my_list"
   ]
  },
  {
   "cell_type": "markdown",
   "id": "d30fb6f1-f3f5-4de0-8f75-d90a60b5baa6",
   "metadata": {},
   "source": [
    "13. Create a list of even numbers from 1 to 20."
   ]
  },
  {
   "cell_type": "code",
   "execution_count": 16,
   "id": "4f72c5eb-ad91-4e16-9063-d9040b4b89a6",
   "metadata": {},
   "outputs": [
    {
     "data": {
      "text/plain": [
       "[2, 4, 6, 8, 10, 12, 14, 16, 18, 20]"
      ]
     },
     "execution_count": 16,
     "metadata": {},
     "output_type": "execute_result"
    }
   ],
   "source": [
    "list(range(2,22,2))"
   ]
  },
  {
   "cell_type": "markdown",
   "id": "312a6705-d380-42e2-80d1-3cc79fe90658",
   "metadata": {},
   "source": [
    "14. Create a list of odd numbers from 1 to 20."
   ]
  },
  {
   "cell_type": "code",
   "execution_count": 20,
   "id": "8053544c-357c-4312-999b-ec20504aa9d6",
   "metadata": {},
   "outputs": [
    {
     "data": {
      "text/plain": [
       "[1, 3, 5, 7, 9, 11, 13, 15, 17, 19]"
      ]
     },
     "execution_count": 20,
     "metadata": {},
     "output_type": "execute_result"
    }
   ],
   "source": [
    "list(range(1,21,2))"
   ]
  },
  {
   "cell_type": "markdown",
   "id": "cf276005-5e3a-4bfc-a1d0-16112b87263f",
   "metadata": {},
   "source": [
    "15. Find the sum of all elements in a list."
   ]
  },
  {
   "cell_type": "code",
   "execution_count": 27,
   "id": "77e709e0-b6dd-4374-81a8-4c1d4d98ca86",
   "metadata": {},
   "outputs": [
    {
     "name": "stdout",
     "output_type": "stream",
     "text": [
      "sum_of_elements: 365\n"
     ]
    }
   ],
   "source": [
    "my_list=[15,40,30,90,50,60,80]\n",
    "addition = sum(my_list)\n",
    "print(\"sum_of_elements:\", addition)"
   ]
  },
  {
   "cell_type": "markdown",
   "id": "dcd1b10e-c8a0-42ff-be8f-5b150cc03a70",
   "metadata": {},
   "source": [
    "16. Find the maximum value in a list.\n",
    "17. Find the minimum value in a list."
   ]
  },
  {
   "cell_type": "code",
   "execution_count": 29,
   "id": "50a5ad7c-a27f-4e5f-a7fe-a64210dc212a",
   "metadata": {},
   "outputs": [
    {
     "name": "stdout",
     "output_type": "stream",
     "text": [
      "Maximum_value: 100\n"
     ]
    }
   ],
   "source": [
    "my_list=[15,40,30,90,100,60,80]\n",
    "max_value = max(my_list)\n",
    "print(\"Maximum_value:\", max_value)"
   ]
  },
  {
   "cell_type": "code",
   "execution_count": 30,
   "id": "12324971-abce-4b02-a6a1-8eb102c7a0f8",
   "metadata": {},
   "outputs": [
    {
     "name": "stdout",
     "output_type": "stream",
     "text": [
      "Minimum_value: 15\n"
     ]
    }
   ],
   "source": [
    "my_list=[15,40,30,90,100,60,80]\n",
    "min_value = min(my_list)\n",
    "print(\"Minimum_value:\", min_value)"
   ]
  },
  {
   "cell_type": "markdown",
   "id": "00091d6a-ef9e-4eb5-9fe7-142fa6daa719",
   "metadata": {},
   "source": [
    "18. Create a list of squares of numbers from 1 to 10"
   ]
  },
  {
   "cell_type": "code",
   "execution_count": 37,
   "id": "b121c5a3-d7c8-410a-be0c-67aaca00819a",
   "metadata": {},
   "outputs": [
    {
     "name": "stdout",
     "output_type": "stream",
     "text": [
      "list_of_squares: [1, 4, 9, 16, 25, 36, 49, 64, 81, 100]\n"
     ]
    }
   ],
   "source": [
    "squares = [x**2 for x in range(1,11)]\n",
    "print(\"list_of_squares:\", squares)"
   ]
  },
  {
   "cell_type": "markdown",
   "id": "24fdfe26-bcbc-476a-81e6-f350652f4734",
   "metadata": {},
   "source": [
    "19. Create a list of random numbers."
   ]
  },
  {
   "cell_type": "code",
   "execution_count": 38,
   "id": "a8ee9425-1afe-47bb-a268-b022b3a08bdb",
   "metadata": {},
   "outputs": [
    {
     "name": "stdout",
     "output_type": "stream",
     "text": [
      "[39, 17, 85, 15, 30, 67, 98, 58, 82, 75]\n"
     ]
    }
   ],
   "source": [
    "import random\n",
    "rand_list=[]\n",
    "n=10\n",
    "for i in range(n):\n",
    "    rand_list.append(random.randint(1,100))\n",
    "print(rand_list)"
   ]
  },
  {
   "cell_type": "markdown",
   "id": "04ee1ffc-92c3-4c37-8857-2c160710aa2b",
   "metadata": {},
   "source": [
    "20. Remove duplicates from a list."
   ]
  },
  {
   "cell_type": "code",
   "execution_count": 41,
   "id": "ca1cca06-dd75-4693-ba35-ea9a7266b480",
   "metadata": {},
   "outputs": [
    {
     "name": "stdout",
     "output_type": "stream",
     "text": [
      "remove_duplicates: [100, 40, 15, 80, 90, 60, 30]\n"
     ]
    }
   ],
   "source": [
    "my_list=[15,40,30,90,100,60,80,40,100,15]\n",
    "unique_list = list(set(my_list))\n",
    "print(\"remove_duplicates:\", unique_list)"
   ]
  },
  {
   "cell_type": "code",
   "execution_count": 44,
   "id": "f9f111d5-3c11-428e-8dfd-32d75a69062b",
   "metadata": {},
   "outputs": [
    {
     "name": "stdout",
     "output_type": "stream",
     "text": [
      "Common_elements: [56]\n"
     ]
    }
   ],
   "source": [
    "list1 = [12,34,56,89]\n",
    "list2 = [24,56,78,79]\n",
    "common_element = [element for element in list1 if element in list2]\n",
    "print(\"Common_elements:\", common_element)"
   ]
  },
  {
   "cell_type": "markdown",
   "id": "a3a35c2d-b1dd-45c1-a3af-b70de8ad07b8",
   "metadata": {},
   "source": [
    "21. Find the common elements between two lists."
   ]
  },
  {
   "cell_type": "code",
   "execution_count": 46,
   "id": "435c8ec3-f062-43bd-a1e2-20752934585a",
   "metadata": {},
   "outputs": [
    {
     "name": "stdout",
     "output_type": "stream",
     "text": [
      "difference_bet_list: [34]\n"
     ]
    }
   ],
   "source": [
    "list1 = [12,34,56,89]\n",
    "list2 = [12,56,89]\n",
    "difference = list(set(list1).difference(list2))\n",
    "print(\"difference_bet_list:\", difference)"
   ]
  },
  {
   "cell_type": "markdown",
   "id": "f9111d54-dedc-46f1-818e-c3f40ec58356",
   "metadata": {},
   "source": [
    "23. Merge two lists."
   ]
  },
  {
   "cell_type": "code",
   "execution_count": 47,
   "id": "0a07943f-1a12-47e7-8e5d-7e54a6fff71a",
   "metadata": {},
   "outputs": [],
   "source": [
    "list1 = [12,34,56,89]\n",
    "list2 = [24,56,78,79]\n",
    "merge_lists = list1 + list2"
   ]
  },
  {
   "cell_type": "code",
   "execution_count": 49,
   "id": "65b7f907-7920-44f8-b686-64fff349197f",
   "metadata": {},
   "outputs": [
    {
     "data": {
      "text/plain": [
       "[12, 34, 56, 89, 24, 56, 78, 79]"
      ]
     },
     "execution_count": 49,
     "metadata": {},
     "output_type": "execute_result"
    }
   ],
   "source": [
    "merge_lists"
   ]
  },
  {
   "cell_type": "markdown",
   "id": "cb62b5e9-ccc0-446c-9142-2e4a67fe2965",
   "metadata": {},
   "source": [
    "24. Multiply all elements in a list by 2."
   ]
  },
  {
   "cell_type": "code",
   "execution_count": 55,
   "id": "c73b6221-cd51-47de-8846-631a8ee74158",
   "metadata": {},
   "outputs": [],
   "source": [
    "my_list= [10,20,30,40,50,60]\n",
    "multiply_list = [x*2 for x in my_list]"
   ]
  },
  {
   "cell_type": "code",
   "execution_count": 56,
   "id": "ef622ab5-49aa-4032-911e-c8be3d764e60",
   "metadata": {},
   "outputs": [
    {
     "name": "stdout",
     "output_type": "stream",
     "text": [
      "multiplied_list: [20, 40, 60, 80, 100, 120]\n"
     ]
    }
   ],
   "source": [
    "print(\"multiplied_list:\", multiply_list)"
   ]
  },
  {
   "cell_type": "markdown",
   "id": "1767e78d-571c-4fdf-ad9f-db35dc79a357",
   "metadata": {},
   "source": [
    "25. Filter out all even numbers from a list."
   ]
  },
  {
   "cell_type": "code",
   "execution_count": 60,
   "id": "d4adba09-4dfa-4873-90c3-3e4ae799d8f5",
   "metadata": {},
   "outputs": [
    {
     "name": "stdout",
     "output_type": "stream",
     "text": [
      "filtered_list(even numbers): [24, 56, 78]\n"
     ]
    }
   ],
   "source": [
    "list = [24,56,78,79]\n",
    "filtered_numbers = [x for x in list if x%2==0]\n",
    "print(\"filtered_list(even numbers):\", filtered_numbers)"
   ]
  },
  {
   "cell_type": "code",
   "execution_count": 61,
   "id": "f0e564a9-e9c0-4eef-aeea-f95866634e39",
   "metadata": {},
   "outputs": [
    {
     "name": "stdout",
     "output_type": "stream",
     "text": [
      "filtered_list(odd numbers): [79]\n"
     ]
    }
   ],
   "source": [
    "list = [24,56,78,79]\n",
    "filtered_numbers = [x for x in list if x%2!=0]\n",
    "print(\"filtered_list(odd numbers):\", filtered_numbers)"
   ]
  },
  {
   "cell_type": "markdown",
   "id": "e251e4e4-b8bc-454d-9783-81b38df9e5cb",
   "metadata": {},
   "source": [
    "26. Convert a list of strings to a list of integers."
   ]
  },
  {
   "cell_type": "code",
   "execution_count": 65,
   "id": "c307d550-3cff-415a-a2c4-80e1fc85a652",
   "metadata": {},
   "outputs": [
    {
     "name": "stdout",
     "output_type": "stream",
     "text": [
      "integers_list: [10, 20, 30, 40, 50, 60]\n"
     ]
    }
   ],
   "source": [
    "my_list= [\"10\",\"20\",\"30\",\"40\",\"50\",\"60\"]\n",
    "integer_list = [int(x) for x in my_list]\n",
    "print(\"integers_list:\", integer_list)"
   ]
  },
  {
   "cell_type": "markdown",
   "id": "b632f4e6-cba8-4eb9-91d2-f68b2fd006d1",
   "metadata": {},
   "source": [
    "27. Convert a list of integers to a list of strings."
   ]
  },
  {
   "cell_type": "code",
   "execution_count": 66,
   "id": "9d0ce0ad-84b2-4c1e-b6b8-5cfde54aa7e0",
   "metadata": {},
   "outputs": [
    {
     "name": "stdout",
     "output_type": "stream",
     "text": [
      "list_of_strings: ['10', '20', '30', '40', '50', '60']\n"
     ]
    }
   ],
   "source": [
    "integer_list= [10,20,30,40,50,60]\n",
    "str_list=[str(x) for x in integer_list]\n",
    "print(\"list_of_strings:\", str_list)"
   ]
  },
  {
   "cell_type": "markdown",
   "id": "58678f8e-50a6-43f5-b37c-6493c8d64768",
   "metadata": {},
   "source": [
    "28. Flatten a nested list."
   ]
  },
  {
   "cell_type": "code",
   "execution_count": 9,
   "id": "77fee497-3019-4f9c-acb6-203b418d253a",
   "metadata": {},
   "outputs": [
    {
     "name": "stdout",
     "output_type": "stream",
     "text": [
      "[15, 40, 30, 90, 100, 60, 80]\n"
     ]
    }
   ],
   "source": [
    "new_list=[15,40], [30,90,100], [60,80]\n",
    "new_list = sum(new_list, [])\n",
    "print(new_list)"
   ]
  },
  {
   "cell_type": "markdown",
   "id": "7a7fe4e4-4632-444b-b3ae-e24ff6010c71",
   "metadata": {},
   "source": [
    "29. Create a list of the first 10 Fibonacci numbers.\n",
    "#Fn = Fn-1 + Fn-2\n",
    "where,\n",
    "n > 1\n",
    "Fn-1 → nth Fibonacci number\n",
    "Fn-2 → (n - 1)th Fibonacci number"
   ]
  },
  {
   "cell_type": "code",
   "execution_count": 13,
   "id": "cd8d217a-0953-4ea5-be78-f992857377c7",
   "metadata": {},
   "outputs": [
    {
     "name": "stdout",
     "output_type": "stream",
     "text": [
      "first_10_fibonanacci_numbers: [0, 1, 1, 2, 3, 5, 8, 13, 21, 34]\n"
     ]
    }
   ],
   "source": [
    "def generate_fibonacci(n):\n",
    "    fibonacci_list=[0,1]\n",
    "    for i in range(2,n):\n",
    "        next_fibonacci= fibonacci_list[i-1] + fibonacci_list[i-2]\n",
    "        fibonacci_list.append(next_fibonacci)\n",
    "    return fibonacci_list\n",
    "fibonacci_numbers = generate_fibonacci(10)\n",
    "print(\"first_10_fibonanacci_numbers:\", fibonacci_numbers)"
   ]
  },
  {
   "cell_type": "markdown",
   "id": "0cc3eecf-3466-4f1f-a321-633bbe542654",
   "metadata": {},
   "source": [
    "30. Check if a list is sorted."
   ]
  },
  {
   "cell_type": "code",
   "execution_count": 14,
   "id": "50e222e1-ab76-4590-8c90-27f68838df40",
   "metadata": {},
   "outputs": [
    {
     "name": "stdout",
     "output_type": "stream",
     "text": [
      "True\n"
     ]
    }
   ],
   "source": [
    "list = [1, 2, 3, 4, 5]\n",
    "print(list == sorted(list))"
   ]
  },
  {
   "cell_type": "markdown",
   "id": "5f98f8e2-0ec5-4452-ab04-8a03ec56bd2b",
   "metadata": {},
   "source": [
    "31. Rotate a list to the left by `n` positions."
   ]
  },
  {
   "cell_type": "code",
   "execution_count": 17,
   "id": "6495c720-30e8-45e4-9bcc-728182e467f2",
   "metadata": {},
   "outputs": [
    {
     "name": "stdout",
     "output_type": "stream",
     "text": [
      "rotated_list: [3, 4, 5, 1, 2]\n"
     ]
    }
   ],
   "source": [
    "def rotate_left(list,n):\n",
    "    n=n%len(list)\n",
    "    rotated=list[n:]+list[:n]\n",
    "    return rotated\n",
    "my_list= [1,2,3,4,5]\n",
    "n=2\n",
    "rotated_list=rotate_left(my_list,n)\n",
    "print(\"rotated_list:\", rotated_list)"
   ]
  },
  {
   "cell_type": "markdown",
   "id": "17b0b165-7440-4627-ad5f-b3252add71dc",
   "metadata": {},
   "source": [
    "32. Rotate a list to the right by `n` positions."
   ]
  },
  {
   "cell_type": "code",
   "execution_count": 18,
   "id": "5fffbb5c-0ff1-462f-b51d-a54fe6b2ede9",
   "metadata": {},
   "outputs": [
    {
     "name": "stdout",
     "output_type": "stream",
     "text": [
      "rotated_list: [4, 5, 1, 2, 3]\n"
     ]
    }
   ],
   "source": [
    "def rotate_right(list,n):\n",
    "    n=n%len(list)\n",
    "    rotated=list[-n:]+list[:-n]\n",
    "    return rotated\n",
    "my_list= [1,2,3,4,5]\n",
    "n=2\n",
    "rotated_list=rotate_right(my_list,n)\n",
    "print(\"rotated_list:\", rotated_list)"
   ]
  },
  {
   "cell_type": "markdown",
   "id": "255b79b8-1214-4661-900c-609a6d808a1e",
   "metadata": {},
   "source": [
    "33. Create a list of prime numbers up to 50."
   ]
  },
  {
   "cell_type": "code",
   "execution_count": 24,
   "id": "a32c2112-14bd-441a-9a44-92ca42971b74",
   "metadata": {},
   "outputs": [
    {
     "name": "stdout",
     "output_type": "stream",
     "text": [
      "2\n",
      "3\n",
      "5\n",
      "7\n",
      "11\n",
      "13\n",
      "17\n",
      "19\n",
      "23\n",
      "29\n",
      "31\n",
      "37\n",
      "41\n",
      "43\n",
      "47\n"
     ]
    }
   ],
   "source": [
    "for num in range(2,51):\n",
    "    prime = True\n",
    "    for i in range(2,num):\n",
    "        if (num%i==0):\n",
    "            prime = False\n",
    "    if prime:\n",
    "        print (num)"
   ]
  },
  {
   "cell_type": "markdown",
   "id": "f3055fe9-2c26-4d57-b9dc-9ff26f601205",
   "metadata": {},
   "source": [
    "34. Split a list into chunks of size `n`."
   ]
  },
  {
   "cell_type": "code",
   "execution_count": 25,
   "id": "2d177d95-b5f6-4441-ae6e-b550ffdaad2f",
   "metadata": {},
   "outputs": [
    {
     "name": "stdout",
     "output_type": "stream",
     "text": [
      "[1, 2, 3]\n",
      "[4, 5, 6]\n",
      "[7, 8, 9]\n"
     ]
    }
   ],
   "source": [
    "my_list = [1, 2, 3, 4, 5, 6, 7, 8, 9]\n",
    "start = 0\n",
    "end = len(my_list)\n",
    "step = 3\n",
    "for i in range(start, end, step):\n",
    "    x = i\n",
    "    print(my_list[x:x+step])"
   ]
  },
  {
   "cell_type": "markdown",
   "id": "dbfa46fe-5e35-4d76-ad72-66c5e810cbb1",
   "metadata": {},
   "source": [
    "35. Find the second largest number in a list."
   ]
  },
  {
   "cell_type": "code",
   "execution_count": 27,
   "id": "78d16fbd-7a00-441b-b663-4d3ef9cad70f",
   "metadata": {},
   "outputs": [
    {
     "name": "stdout",
     "output_type": "stream",
     "text": [
      "second_longest_number: 90\n"
     ]
    }
   ],
   "source": [
    "my_list=[15,40,30,90,100,60,80,40,100,15]\n",
    "sorted_list = sorted(set(my_list))\n",
    "if len(sorted_list) >= 2:\n",
    "    second_longest= sorted_list[-2]\n",
    "    print(\"second_longest_number:\", second_longest)"
   ]
  },
  {
   "cell_type": "markdown",
   "id": "1b8f23ff-b4e3-41c6-828c-24aa52e306af",
   "metadata": {},
   "source": [
    "36. Replace every element in a list with its square."
   ]
  },
  {
   "cell_type": "code",
   "execution_count": 29,
   "id": "0fd1915f-4ac0-4943-b264-37b9d2de2634",
   "metadata": {},
   "outputs": [
    {
     "name": "stdout",
     "output_type": "stream",
     "text": [
      "list_of_squares: [1, 4, 9, 16, 25]\n"
     ]
    }
   ],
   "source": [
    "squares = [x**2 for x in (1,2,3,4,5)]\n",
    "print(\"list_of_squares:\", squares)"
   ]
  },
  {
   "cell_type": "markdown",
   "id": "870a1bd1-a632-4476-ba3d-5d18e6701bf5",
   "metadata": {},
   "source": [
    "37. Convert a list to a dictionary where list elements become keys and their indices become values."
   ]
  },
  {
   "cell_type": "code",
   "execution_count": 31,
   "id": "ad61dec1-2b9f-43da-8deb-1b7bb2f23dc3",
   "metadata": {},
   "outputs": [
    {
     "name": "stdout",
     "output_type": "stream",
     "text": [
      "converted_dict: {'india': 0, 'uk': 1, 'usa': 2, 'germany': 3}\n"
     ]
    }
   ],
   "source": [
    "my_list= [\"india\", \"uk\", \"usa\", \"germany\"]\n",
    "my_dict= {element:index for index, element in enumerate(my_list)}\n",
    "print(\"converted_dict:\", my_dict)"
   ]
  },
  {
   "cell_type": "markdown",
   "id": "e7464215-7842-4f1b-a197-7e690c4d50ac",
   "metadata": {},
   "source": [
    "38. Shuffle the elements of a list randomly."
   ]
  },
  {
   "cell_type": "code",
   "execution_count": 2,
   "id": "7d16066f-cfaf-4e0e-af45-2ac0768d345e",
   "metadata": {},
   "outputs": [
    {
     "name": "stdout",
     "output_type": "stream",
     "text": [
      "Shuffled_list: [4, 6, 8, 9, 2, 1, 3, 7, 5]\n"
     ]
    }
   ],
   "source": [
    "import random\n",
    "my_list = [1, 2, 3, 4, 5, 6, 7, 8, 9]\n",
    "random.shuffle(my_list)\n",
    "print(\"Shuffled_list:\", my_list)"
   ]
  },
  {
   "cell_type": "markdown",
   "id": "920732ec-c095-463f-add2-ddd1d1d00882",
   "metadata": {},
   "source": [
    "39. Create a list of the first 10 factorial numbers."
   ]
  },
  {
   "cell_type": "code",
   "execution_count": 5,
   "id": "cd4fede7-1f5f-46d8-9d40-dbe9ef8ea2e9",
   "metadata": {},
   "outputs": [
    {
     "name": "stdout",
     "output_type": "stream",
     "text": [
      "first 10 factorial numbers: [1, 1, 2, 6, 24, 120, 720, 5040, 40320, 362880]\n"
     ]
    }
   ],
   "source": [
    "def factorial(n):\n",
    "    if n == 0 or n==1:\n",
    "        return 1\n",
    "    else:\n",
    "        return n*factorial(n-1)\n",
    "factorial_numbers=[factorial (i) for i in range(10)]\n",
    "print(\"first 10 factorial numbers:\", factorial_numbers)"
   ]
  },
  {
   "cell_type": "markdown",
   "id": "004e3f8b-cc68-4446-9719-ea120e9b86f4",
   "metadata": {},
   "source": [
    "40. Check if two lists have at least one element in common."
   ]
  },
  {
   "cell_type": "code",
   "execution_count": 6,
   "id": "f1264f5d-f3d5-4727-9ee9-cf38b2f4c079",
   "metadata": {},
   "outputs": [
    {
     "name": "stdout",
     "output_type": "stream",
     "text": [
      "True\n"
     ]
    }
   ],
   "source": [
    "list1 = [1, 2, 3, 4, 5]\n",
    "list2 = [4, 5, 6, 7, 8]\n",
    "out = any(check in list1 for check in list2)\n",
    "if out:\n",
    "    print(\"True\")\n",
    "else :\n",
    "    print(\"False\")"
   ]
  },
  {
   "cell_type": "markdown",
   "id": "b613ac25-0316-4bae-ba69-32dddc0e832b",
   "metadata": {},
   "source": [
    "41. Remove all elements from a list."
   ]
  },
  {
   "cell_type": "code",
   "execution_count": 7,
   "id": "0741305e-082a-4050-9456-47d04ffd8777",
   "metadata": {},
   "outputs": [
    {
     "name": "stdout",
     "output_type": "stream",
     "text": [
      "empty_list: []\n"
     ]
    }
   ],
   "source": [
    "my_list = [1, 2, 3, 4, 5, 6, 7]\n",
    "my_list.clear()\n",
    "print(\"empty_list:\", my_list)"
   ]
  },
  {
   "cell_type": "markdown",
   "id": "9e087a74-1180-4d46-8610-5b7704021628",
   "metadata": {},
   "source": [
    "42. Replace negative numbers in a list with 0."
   ]
  },
  {
   "cell_type": "code",
   "execution_count": 8,
   "id": "be79bfe8-e321-4828-baf7-04b94dd59738",
   "metadata": {},
   "outputs": [
    {
     "name": "stdout",
     "output_type": "stream",
     "text": [
      "replace_negative_numbers_with 0: [1, 0, 3, 0, 5, 0, 7]\n"
     ]
    }
   ],
   "source": [
    "my_list = [1, -2, 3, -4, 5, -6, 7]\n",
    "for i in range (len(my_list)):\n",
    "    if my_list[i]<0:\n",
    "        my_list[i]=0\n",
    "print(\"replace_negative_numbers_with 0:\", my_list)"
   ]
  },
  {
   "cell_type": "markdown",
   "id": "e79d8261-174a-48fc-88e1-87b969748002",
   "metadata": {},
   "source": [
    "43. Convert a string into a list of words."
   ]
  },
  {
   "cell_type": "code",
   "execution_count": 9,
   "id": "6d085b12-370c-4bef-8f10-1a150172054e",
   "metadata": {},
   "outputs": [
    {
     "name": "stdout",
     "output_type": "stream",
     "text": [
      "list_of_words: ['hii!', 'world']\n"
     ]
    }
   ],
   "source": [
    "my_string = \"hii! world\"\n",
    "list= my_string.split()\n",
    "print(\"list_of_words:\", list)"
   ]
  },
  {
   "cell_type": "markdown",
   "id": "04e868f4-df9a-4891-9d1b-b24047e32f2a",
   "metadata": {},
   "source": [
    "44. Convert a list of words into a string."
   ]
  },
  {
   "cell_type": "code",
   "execution_count": 12,
   "id": "222e103a-220e-45a2-8844-2ec0fd4f886a",
   "metadata": {},
   "outputs": [
    {
     "name": "stdout",
     "output_type": "stream",
     "text": [
      "converted_string: hii!  world\n"
     ]
    }
   ],
   "source": [
    "my_list = ['hii!', 'world']\n",
    "str = \"  \".join(my_list)\n",
    "print(\"converted_string:\", str)"
   ]
  },
  {
   "cell_type": "markdown",
   "id": "1df277cd-dc63-434a-8b07-8d3757e87257",
   "metadata": {},
   "source": [
    "45. Create a list of the first `n` powers of 2."
   ]
  },
  {
   "cell_type": "code",
   "execution_count": 14,
   "id": "75b827e4-27bd-49b0-8842-041f4a692a3f",
   "metadata": {},
   "outputs": [
    {
     "name": "stdout",
     "output_type": "stream",
     "text": [
      "list of the first n powers of 2: [1, 2, 4, 8, 16]\n"
     ]
    }
   ],
   "source": [
    "n =5\n",
    "power_list = [2**i for i in range(n)]\n",
    "print(\"list of the first n powers of 2:\", power_list)         "
   ]
  },
  {
   "cell_type": "markdown",
   "id": "d088af5e-7f68-4c00-bda4-171975c214b4",
   "metadata": {},
   "source": [
    "46. Find the longest string in a list of strings."
   ]
  },
  {
   "cell_type": "code",
   "execution_count": 16,
   "id": "d0062b69-5e3a-4f68-a72f-77d6030f9533",
   "metadata": {},
   "outputs": [
    {
     "name": "stdout",
     "output_type": "stream",
     "text": [
      "Longest String is  :  watermelon\n"
     ]
    }
   ],
   "source": [
    "list = ['apple', 'banana', 'watermelon', 'orange'] \n",
    "res = max(list, key=len) \n",
    "print(\"Longest String is  : \", res)"
   ]
  },
  {
   "cell_type": "markdown",
   "id": "011fc58a-2dc4-4655-b76a-f9749ec00327",
   "metadata": {},
   "source": [
    "47. Find the shortest string in a list of strings."
   ]
  },
  {
   "cell_type": "code",
   "execution_count": 23,
   "id": "8fb9203f-cc7c-4edb-b858-d17e2fd508d2",
   "metadata": {},
   "outputs": [
    {
     "name": "stdout",
     "output_type": "stream",
     "text": [
      "The original list :  ['apple', 'banana', 'watermelon', 'date']\n",
      "shortest_string: date\n"
     ]
    }
   ],
   "source": [
    "test_list = ['apple', 'banana', 'watermelon', 'date'] \n",
    "print(\"The original list : \" , test_list)\n",
    "shortest_string=test_list[0]\n",
    "for s in test_list:\n",
    "    if len(s)<len(shortest_string):\n",
    "        shortest_string = s\n",
    "print(\"shortest_string:\", shortest_string)"
   ]
  },
  {
   "cell_type": "markdown",
   "id": "67598079-8443-4b09-9117-237145dff4d9",
   "metadata": {},
   "source": [
    "48. Create a list of the first `n` triangular numbers."
   ]
  },
  {
   "cell_type": "code",
   "execution_count": 24,
   "id": "1a278e4d-e1b2-4105-b2e0-1ba80525b052",
   "metadata": {},
   "outputs": [
    {
     "name": "stdout",
     "output_type": "stream",
     "text": [
      "list of the first n triangular numbers: [1, 3, 6, 10, 15]\n"
     ]
    }
   ],
   "source": [
    "def triangular_numbers(n):\n",
    "    return[i*(i+1)//2for i in range(1,n+1)]\n",
    "n=5\n",
    "triangular_list=triangular_numbers(n)\n",
    "print(\"list of the first n triangular numbers:\", triangular_list)"
   ]
  },
  {
   "cell_type": "markdown",
   "id": "888cd30b-7381-4bd4-b174-2ec6bac49d10",
   "metadata": {},
   "source": [
    "49. Check if a list contains another list as a subsequence."
   ]
  },
  {
   "cell_type": "code",
   "execution_count": 18,
   "id": "b1cecfe2-3f3f-44d8-bef6-98b48cb4d640",
   "metadata": {},
   "outputs": [
    {
     "name": "stdout",
     "output_type": "stream",
     "text": [
      "main list does not contains subsequence\n"
     ]
    }
   ],
   "source": [
    "def is_subsequence(subsequence, main_list):\n",
    "    subseq_index =0\n",
    "    for element in main_list:\n",
    "        if element == subsequence[subseq_index]:\n",
    "            subseq_index += 1\n",
    "            if subseq_inex == len(subsequence):\n",
    "                return True\n",
    "        return False\n",
    "main_list = [1,2,3,4,5,6,7,8,9,10]\n",
    "subsequence = [3,4,5]\n",
    "if is_subsequence(subsequence, main_list):\n",
    "    print(\"main list contains subsequence\")\n",
    "else:\n",
    "    print(\"main list does not contains subsequence\")"
   ]
  },
  {
   "cell_type": "markdown",
   "id": "ab60b43f-7aa1-4604-8400-89a4ef2c84c5",
   "metadata": {},
   "source": [
    "50. Swap two elements in a list by their indices."
   ]
  },
  {
   "cell_type": "code",
   "execution_count": 1,
   "id": "85801b2f-f759-4789-89f3-4ddc8b1e22d8",
   "metadata": {},
   "outputs": [
    {
     "name": "stdout",
     "output_type": "stream",
     "text": [
      "swapping of the elements: [1, 4, 3, 2, 5, 6, 7]\n"
     ]
    }
   ],
   "source": [
    "my_list = [1, 2, 3, 4, 5, 6, 7]\n",
    "index1 = 1\n",
    "index2 = 3\n",
    "temp = my_list[index1]\n",
    "my_list[index1] = my_list[index2]\n",
    "my_list[index2] = temp\n",
    "print(\"swapping of the elements:\", my_list)"
   ]
  },
  {
   "cell_type": "markdown",
   "id": "9baee3ff-126e-4a96-991f-4a58b004c4ca",
   "metadata": {},
   "source": [
    "Tuple Based Practice Problem :\n",
    "1. Create a tuple with integers from 1 to 5."
   ]
  },
  {
   "cell_type": "code",
   "execution_count": 2,
   "id": "3097e54f-e507-40f5-a78b-c0ebfe3e496f",
   "metadata": {},
   "outputs": [
    {
     "name": "stdout",
     "output_type": "stream",
     "text": [
      "1\n",
      "2\n",
      "3\n",
      "4\n",
      "5\n"
     ]
    }
   ],
   "source": [
    "my_tuple = (1, 2, 3, 4, 5)\n",
    "for element in my_tuple:\n",
    "    print(element)"
   ]
  },
  {
   "cell_type": "markdown",
   "id": "0a49a702-2acc-4601-a9d6-a0051cf4c719",
   "metadata": {},
   "source": [
    "2. Access the third element of a tuple."
   ]
  },
  {
   "cell_type": "code",
   "execution_count": 4,
   "id": "3991839a-6e18-4936-a9da-beab23b38c00",
   "metadata": {},
   "outputs": [
    {
     "name": "stdout",
     "output_type": "stream",
     "text": [
      "third element of a tuple: 3\n"
     ]
    }
   ],
   "source": [
    "my_tuple = (1, 2, 3, 4, 5)\n",
    "third_element = my_tuple[2]\n",
    "print(\"third element of a tuple:\", third_element)"
   ]
  },
  {
   "cell_type": "markdown",
   "id": "9607ce9f-560f-4f2a-bbce-29dce70b6d3d",
   "metadata": {},
   "source": [
    "3. Find the length of a tuple without using the `len()` function."
   ]
  },
  {
   "cell_type": "code",
   "execution_count": 8,
   "id": "161289f9-1df6-4af4-9eb0-3b195ce0ca4b",
   "metadata": {},
   "outputs": [
    {
     "name": "stdout",
     "output_type": "stream",
     "text": [
      "The list is : [1, 2, 3, 4, 5]\n",
      "Length of list using naive method is : 5\n"
     ]
    }
   ],
   "source": [
    "my_list = [1, 2, 3, 4, 5]\n",
    "print(\"The list is : \" + str(my_list))\n",
    "counter = 0\n",
    "for i in my_list:\n",
    "    counter = counter + 1\n",
    "print(\"Length of list using naive method is : \" + str(counter))"
   ]
  },
  {
   "cell_type": "markdown",
   "id": "e25b543f-0dcd-4324-9413-6258393eed7a",
   "metadata": {},
   "source": [
    "4. Count the occurrences of an element in a tuple."
   ]
  },
  {
   "cell_type": "code",
   "execution_count": 10,
   "id": "f1621cec-716d-4ef9-98d2-7ace153be9df",
   "metadata": {},
   "outputs": [
    {
     "name": "stdout",
     "output_type": "stream",
     "text": [
      "3\n"
     ]
    }
   ],
   "source": [
    "my_tuple = ('a', 'a', 'c', 'b', 'd')\n",
    "list = ['a', 'b']\n",
    "count = sum([my_tuple.count(i) for i in list])\n",
    "print(count)"
   ]
  },
  {
   "cell_type": "markdown",
   "id": "e8346299-b2d2-4b3d-813f-b4e17f26d517",
   "metadata": {},
   "source": [
    "5. Find the index of the first occurrence of an element in a tuple."
   ]
  },
  {
   "cell_type": "code",
   "execution_count": 11,
   "id": "41f4fc5a-4961-4f4d-8b78-ba96aa08c3a7",
   "metadata": {},
   "outputs": [
    {
     "name": "stdout",
     "output_type": "stream",
     "text": [
      "2\n"
     ]
    }
   ],
   "source": [
    "my_tuple = ( 4, 2, 5, 6, 7, 5)\n",
    "print(my_tuple.index(5))"
   ]
  },
  {
   "cell_type": "markdown",
   "id": "698233dc-9429-449f-b9bd-94d52ab7053c",
   "metadata": {},
   "source": [
    "6. Check if an element exists in a tuple."
   ]
  },
  {
   "cell_type": "code",
   "execution_count": 13,
   "id": "825a3df7-1750-460f-9339-c424a9ebb452",
   "metadata": {},
   "outputs": [
    {
     "name": "stdout",
     "output_type": "stream",
     "text": [
      "3 exists in tuple\n"
     ]
    }
   ],
   "source": [
    "my_tuple = (1, 2, 3, 4, 5)\n",
    "element_to_check = 3\n",
    "if element_to_check in my_tuple:\n",
    "    print(f\"{element_to_check} exists in tuple\")\n",
    "else:\n",
    "    print(f\"{element_to_check} does not exists in tuple\")"
   ]
  },
  {
   "cell_type": "markdown",
   "id": "1550c55a-266c-4eb9-b055-fea1a12b0cdf",
   "metadata": {},
   "source": [
    "7. Convert a tuple to a list."
   ]
  },
  {
   "cell_type": "code",
   "execution_count": 2,
   "id": "174b07be-dcc8-42c8-8388-d69fe3c565f3",
   "metadata": {},
   "outputs": [
    {
     "name": "stdout",
     "output_type": "stream",
     "text": [
      "[1, 2, 3]\n"
     ]
    }
   ],
   "source": [
    "t = (1, 2, 3)\n",
    "l = list(t)\n",
    "print(l)"
   ]
  },
  {
   "cell_type": "markdown",
   "id": "6e6987a1-ffde-4745-ad44-f084b208b48a",
   "metadata": {},
   "source": [
    "8. Convert a list to a tuple."
   ]
  },
  {
   "cell_type": "code",
   "execution_count": 4,
   "id": "8c952539-707a-4154-b12b-1d76be9c6f6b",
   "metadata": {},
   "outputs": [
    {
     "name": "stdout",
     "output_type": "stream",
     "text": [
      "(1, 2, 3)\n"
     ]
    }
   ],
   "source": [
    "my_list = [1, 2, 3]\n",
    "my_tuple = tuple(my_list)\n",
    "print(my_tuple)"
   ]
  },
  {
   "cell_type": "markdown",
   "id": "da80a847-75b3-4685-8f24-3574f364db0e",
   "metadata": {},
   "source": [
    "9. Unpack the elements of a tuple into variables."
   ]
  },
  {
   "cell_type": "code",
   "execution_count": 6,
   "id": "fc715c86-a5ac-47ac-8b27-577f02262923",
   "metadata": {},
   "outputs": [
    {
     "name": "stdout",
     "output_type": "stream",
     "text": [
      "var1: 1\n",
      "var2: 2\n",
      "var3: 3\n",
      "var4: 4\n"
     ]
    }
   ],
   "source": [
    "my_tuple = (1,2,3,4)\n",
    "var1, var2, var3, var4 = my_tuple\n",
    "print(\"var1:\", var1)\n",
    "print(\"var2:\", var2)\n",
    "print(\"var3:\", var3)\n",
    "print(\"var4:\", var4)"
   ]
  },
  {
   "cell_type": "markdown",
   "id": "55c435f1-53a7-47c8-b096-c43e34309dab",
   "metadata": {},
   "source": [
    "10. Create a tuple of even numbers from 1 to 10."
   ]
  },
  {
   "cell_type": "code",
   "execution_count": 15,
   "id": "563f3d62-408d-4180-9499-ce9ec5e428ec",
   "metadata": {},
   "outputs": [
    {
     "name": "stdout",
     "output_type": "stream",
     "text": [
      "Even_numbers: [2, 4, 6, 8, 10]\n"
     ]
    }
   ],
   "source": [
    "even_numbers = []\n",
    "even_numbers = list(range(2, 11, 2))\n",
    "print(\"Even_numbers:\", even_numbers)"
   ]
  },
  {
   "cell_type": "markdown",
   "id": "d8ff01a5-eb1a-494a-88af-854be2725db9",
   "metadata": {},
   "source": [
    "11. Create a tuple of odd numbers from 1 to 10."
   ]
  },
  {
   "cell_type": "code",
   "execution_count": 16,
   "id": "6ca421ec-7d12-4007-8ad9-45ef7dcaf109",
   "metadata": {},
   "outputs": [
    {
     "name": "stdout",
     "output_type": "stream",
     "text": [
      "Odd_numbers: [1, 3, 5, 7, 9]\n"
     ]
    }
   ],
   "source": [
    "odd_numbers = []\n",
    "odd_numbers = list(range(1, 11, 2))\n",
    "print(\"Odd_numbers:\", odd_numbers)"
   ]
  },
  {
   "cell_type": "markdown",
   "id": "aac311bc-6b11-4a07-a5d8-a4fc28b4be39",
   "metadata": {},
   "source": [
    "12. Concatenate two tuples."
   ]
  },
  {
   "cell_type": "code",
   "execution_count": 20,
   "id": "003c7d8b-f967-4cc2-8598-5fa36abb4b1d",
   "metadata": {},
   "outputs": [
    {
     "name": "stdout",
     "output_type": "stream",
     "text": [
      "Concatenated_tuple: (10, 20, 30, 40, 50, 60)\n"
     ]
    }
   ],
   "source": [
    "tuple1 = (10,20,30)\n",
    "tuple2 = (40,50,60)\n",
    "Concatenated_tuple = tuple1 + tuple2\n",
    "print(\"Concatenated_tuple:\", Concatenated_tuple)"
   ]
  },
  {
   "cell_type": "markdown",
   "id": "09b87471-102e-4e27-a647-355f0a6f8824",
   "metadata": {},
   "source": [
    "13. Repeat a tuple three times."
   ]
  },
  {
   "cell_type": "code",
   "execution_count": 22,
   "id": "9b27205a-0fa8-4bf1-8443-ad3c20d62d00",
   "metadata": {},
   "outputs": [
    {
     "name": "stdout",
     "output_type": "stream",
     "text": [
      "repeated_tuple: (4, 5, 6, 4, 5, 6, 4, 5, 6)\n"
     ]
    }
   ],
   "source": [
    "tuple = (4,5,6)\n",
    "repeated_tuple = tuple *3\n",
    "print(\"repeated_tuple:\", repeated_tuple)"
   ]
  },
  {
   "cell_type": "markdown",
   "id": "c76d7496-7b6c-47d2-808f-d0d1c0028bc2",
   "metadata": {},
   "source": [
    "14. Check if a tuple is empty."
   ]
  },
  {
   "cell_type": "code",
   "execution_count": 23,
   "id": "f104bb5d-c7c7-4393-89f1-7ee72a7a6932",
   "metadata": {},
   "outputs": [
    {
     "name": "stdout",
     "output_type": "stream",
     "text": [
      "my_tuple is empty\n",
      "()\n"
     ]
    }
   ],
   "source": [
    "my_tuple=()\n",
    "if not my_tuple:\n",
    "    print (\"my_tuple is empty\")\n",
    "else:\n",
    "    print (\"my_tuple is not empty\")\n",
    "print(my_tuple)"
   ]
  },
  {
   "cell_type": "markdown",
   "id": "0fd36daa-08f9-494e-a3df-96ca5e469bb9",
   "metadata": {},
   "source": [
    "15. Create a nested tuple."
   ]
  },
  {
   "cell_type": "code",
   "execution_count": 24,
   "id": "5fddd61c-cacb-4d5f-898d-11c62b156a44",
   "metadata": {},
   "outputs": [
    {
     "name": "stdout",
     "output_type": "stream",
     "text": [
      "nested_tuple: ((10, 20, 30), ('i', 'am', 'ok'), ('a', 'b', 'c'))\n"
     ]
    }
   ],
   "source": [
    "nested_tuple = ((10,20,30), (\"i\", \"am\", \"ok\"), (\"a\", \"b\", \"c\"))\n",
    "print(\"nested_tuple:\", nested_tuple)"
   ]
  },
  {
   "cell_type": "markdown",
   "id": "b26c6fa1-eaab-4c14-b3f2-1bcc78f62d73",
   "metadata": {},
   "source": [
    "16. Access the first element of a nested tuple."
   ]
  },
  {
   "cell_type": "code",
   "execution_count": 25,
   "id": "28ab56f5-d237-463a-a23a-df39403912cf",
   "metadata": {},
   "outputs": [
    {
     "name": "stdout",
     "output_type": "stream",
     "text": [
      "first_element: (10, 20, 30)\n"
     ]
    }
   ],
   "source": [
    "nested_tuple = ((10,20,30), (\"i\", \"am\", \"ok\"), (\"a\", \"b\", \"c\"))\n",
    "first_element = nested_tuple[0]\n",
    "print(\"first_element:\", first_element)"
   ]
  },
  {
   "cell_type": "markdown",
   "id": "a08c1a1f-d158-46dc-a4a7-88d6f0a77d44",
   "metadata": {},
   "source": [
    "17. Create a tuple with a single element."
   ]
  },
  {
   "cell_type": "code",
   "execution_count": 26,
   "id": "f6852516-fed3-4648-9f24-3b049edd20b9",
   "metadata": {},
   "outputs": [
    {
     "name": "stdout",
     "output_type": "stream",
     "text": [
      "single_element: [24]\n"
     ]
    }
   ],
   "source": [
    "single_element= [24,]\n",
    "print(\"single_element:\", single_element)"
   ]
  },
  {
   "cell_type": "markdown",
   "id": "c16bc343-1c3c-424a-af7a-f24b5b77777f",
   "metadata": {},
   "source": [
    "18. Compare two tuples."
   ]
  },
  {
   "cell_type": "code",
   "execution_count": 27,
   "id": "6d7e8e1f-2dee-47e0-9787-7a00cba9265e",
   "metadata": {},
   "outputs": [
    {
     "name": "stdout",
     "output_type": "stream",
     "text": [
      "False\n",
      "True\n",
      "False\n"
     ]
    }
   ],
   "source": [
    "tuple1 = (1,2,3)\n",
    "tuple2 = (1,2,4)\n",
    "print (tuple1 == tuple2)\n",
    "print (tuple1 < tuple2)\n",
    "print (tuple1 > tuple2)"
   ]
  },
  {
   "cell_type": "markdown",
   "id": "c5c12957-7c27-4f33-8014-e2c80eb78b47",
   "metadata": {},
   "source": [
    "19. Delete a tuple."
   ]
  },
  {
   "cell_type": "code",
   "execution_count": 33,
   "id": "9508dcc6-3c43-4eed-8c6c-fb646d6e9315",
   "metadata": {},
   "outputs": [],
   "source": [
    "tuple1 = (\"india\", \"uk\", \"usa\")\n",
    "del tuple1"
   ]
  },
  {
   "cell_type": "code",
   "execution_count": 57,
   "id": "c5719f8e-46c2-40ef-9fe8-93c56085277b",
   "metadata": {},
   "outputs": [
    {
     "ename": "NameError",
     "evalue": "name 'tuple1' is not defined",
     "output_type": "error",
     "traceback": [
      "\u001b[0;31m---------------------------------------------------------------------------\u001b[0m",
      "\u001b[0;31mNameError\u001b[0m                                 Traceback (most recent call last)",
      "Cell \u001b[0;32mIn[57], line 1\u001b[0m\n\u001b[0;32m----> 1\u001b[0m \u001b[38;5;28mprint\u001b[39m(\u001b[43mtuple1\u001b[49m)\n",
      "\u001b[0;31mNameError\u001b[0m: name 'tuple1' is not defined"
     ]
    }
   ],
   "source": [
    "print(tuple1)"
   ]
  },
  {
   "cell_type": "markdown",
   "id": "0c8b84f2-9e91-4f51-80ef-f1738900a9ce",
   "metadata": {},
   "source": [
    "20. Slice a tuple."
   ]
  },
  {
   "cell_type": "code",
   "execution_count": 36,
   "id": "bfda0bf3-11e0-435d-8ee8-26359a7823d9",
   "metadata": {},
   "outputs": [
    {
     "name": "stdout",
     "output_type": "stream",
     "text": [
      "(40, 50, 60, 70, 80)\n"
     ]
    }
   ],
   "source": [
    "tuple = (10,20,30,40,50,60,70,80,90,100)\n",
    "print(tuple[3:8])"
   ]
  },
  {
   "cell_type": "markdown",
   "id": "e0ec00f2-22a6-4918-bc93-bb15d3782ee5",
   "metadata": {},
   "source": [
    "21. Find the maximum value in a tuple."
   ]
  },
  {
   "cell_type": "code",
   "execution_count": 37,
   "id": "2db44009-488c-40c7-b1a6-f3b6f02e4e84",
   "metadata": {},
   "outputs": [
    {
     "name": "stdout",
     "output_type": "stream",
     "text": [
      "max_value: 100\n"
     ]
    }
   ],
   "source": [
    "tuple = (10,20,30,40,50,60,70,80,90,100)\n",
    "max_value = max(tuple)\n",
    "print(\"max_value:\", max_value)"
   ]
  },
  {
   "cell_type": "markdown",
   "id": "76287b1a-2732-4afa-a36e-6e384646a818",
   "metadata": {},
   "source": [
    "22. Find the minimum value in a tuple."
   ]
  },
  {
   "cell_type": "code",
   "execution_count": 38,
   "id": "9f880394-9789-42a7-a190-02057e5616c1",
   "metadata": {},
   "outputs": [
    {
     "name": "stdout",
     "output_type": "stream",
     "text": [
      "min_value: 10\n"
     ]
    }
   ],
   "source": [
    "tuple = (10,20,30,40,50,60,70,80,90,100)\n",
    "min_value = min(tuple)\n",
    "print(\"min_value:\", min_value)"
   ]
  },
  {
   "cell_type": "markdown",
   "id": "0b1275b5-61d3-4355-a04f-23ccb9e362d5",
   "metadata": {},
   "source": [
    "23. Convert a string to a tuple of characters."
   ]
  },
  {
   "cell_type": "code",
   "execution_count": 1,
   "id": "38964572-4a37-4d62-bdaf-b77e6e8b20c0",
   "metadata": {},
   "outputs": [
    {
     "name": "stdout",
     "output_type": "stream",
     "text": [
      "('h', 'i', ',', ' ', 'h', 'o', 'w', ' ', 'a', 'r', 'e', ' ', 'y', 'o', 'u', '?')\n"
     ]
    }
   ],
   "source": [
    "my_str = \"hi, how are you?\"\n",
    "my_tuple = tuple(my_str)\n",
    "print(my_tuple)"
   ]
  },
  {
   "cell_type": "markdown",
   "id": "bde748fc-e5d4-4d8f-996b-4d208d2c131b",
   "metadata": {},
   "source": [
    "24. Convert a tuple of characters to a string."
   ]
  },
  {
   "cell_type": "code",
   "execution_count": 6,
   "id": "3f81bcf6-7d9d-4e0d-9db9-cf6057e0ae19",
   "metadata": {},
   "outputs": [
    {
     "name": "stdout",
     "output_type": "stream",
     "text": [
      "hi, how are you?\n"
     ]
    }
   ],
   "source": [
    "my_tuple = ('h', 'i', ',', ' ', 'h', 'o', 'w', ' ', 'a', 'r', 'e', ' ', 'y', 'o', 'u', '?')\n",
    "my_str = ''.join(my_tuple)\n",
    "print(my_str)"
   ]
  },
  {
   "cell_type": "markdown",
   "id": "29f5cb9f-72db-4d5d-930f-f7d1bb89f5aa",
   "metadata": {},
   "source": [
    "25. Create a tuple from multiple data types."
   ]
  },
  {
   "cell_type": "code",
   "execution_count": 7,
   "id": "c20388b4-a914-4f7b-a1fe-7652ee577d9c",
   "metadata": {},
   "outputs": [
    {
     "name": "stdout",
     "output_type": "stream",
     "text": [
      "(234, 'mixed', 345, 'pickle')\n"
     ]
    }
   ],
   "source": [
    "my_tuple = (234, \"mixed\", 345, \"pickle\")\n",
    "print(my_tuple)"
   ]
  },
  {
   "cell_type": "markdown",
   "id": "402d07f5-1500-4ac4-b11b-2c056ec51591",
   "metadata": {},
   "source": [
    "26. Check if two tuples are identical."
   ]
  },
  {
   "cell_type": "code",
   "execution_count": 8,
   "id": "fd7296e0-4bde-4d02-95fb-cc6a46d716ed",
   "metadata": {},
   "outputs": [
    {
     "name": "stdout",
     "output_type": "stream",
     "text": [
      "tuple1 and tuple2 are identical: False\n",
      "tuple1 and tuple3 are identical: True\n"
     ]
    }
   ],
   "source": [
    "tuple1 = (1,2,3)\n",
    "tuple2 = (\"a\",\"e\",\"u\")\n",
    "tuple3 = (1,2,3)\n",
    "identical1 = tuple1 == tuple2\n",
    "identical2 = tuple1 == tuple3\n",
    "print(\"tuple1 and tuple2 are identical:\", identical1)\n",
    "print(\"tuple1 and tuple3 are identical:\", identical2)"
   ]
  },
  {
   "cell_type": "markdown",
   "id": "0514f560-3fb1-4240-b498-bb889da1ef4d",
   "metadata": {},
   "source": [
    "27. Sort the elements of a tuple."
   ]
  },
  {
   "cell_type": "code",
   "execution_count": 11,
   "id": "b0aaec80-5763-436f-9dfd-06e094c12481",
   "metadata": {},
   "outputs": [
    {
     "name": "stdout",
     "output_type": "stream",
     "text": [
      "sorted_tuple: (101, 278, 645, 948)\n"
     ]
    }
   ],
   "source": [
    "my_tuple = (101,645,278,948)\n",
    "sorted_tuple = tuple(sorted(my_tuple))\n",
    "print(\"sorted_tuple:\", sorted_tuple)"
   ]
  },
  {
   "cell_type": "markdown",
   "id": "8c9f3e00-a6cd-44b8-9f68-eba83b0a2138",
   "metadata": {},
   "source": [
    "28. Convert a tuple of integers to a tuple of strings."
   ]
  },
  {
   "cell_type": "code",
   "execution_count": 14,
   "id": "44338104-998d-4092-aec2-50c4afa02a0b",
   "metadata": {},
   "outputs": [
    {
     "name": "stdout",
     "output_type": "stream",
     "text": [
      "(100, 200, 300, 400)\n"
     ]
    }
   ],
   "source": [
    "tuple_string = \"(100, 200, 300, 400)\"\n",
    "int_tuple = []\n",
    "for x in tuple_string[1:-1].split(\",\"):\n",
    "    int_tuple.append(int(x))\n",
    "int_tuple = tuple(int_tuple)\n",
    "print(int_tuple)"
   ]
  },
  {
   "cell_type": "markdown",
   "id": "a6391237-787d-4c5c-ab6d-3860b91313d9",
   "metadata": {},
   "source": [
    "29. Convert a tuple of strings to a tuple of integers."
   ]
  },
  {
   "cell_type": "code",
   "execution_count": 15,
   "id": "9181283f-2580-4e4c-86fe-a8d72e02bd69",
   "metadata": {},
   "outputs": [
    {
     "name": "stdout",
     "output_type": "stream",
     "text": [
      "(1, 4, 3, 6, 7)\n"
     ]
    }
   ],
   "source": [
    "tuple1 = ('1', '4', '3', '6', '7')\n",
    "x=[int(i) for i in tuple1]\n",
    "print(tuple(x))"
   ]
  },
  {
   "cell_type": "markdown",
   "id": "251d8959-ae5e-4e22-8975-8e09c8fb69de",
   "metadata": {},
   "source": [
    "30. Merge two tuples."
   ]
  },
  {
   "cell_type": "code",
   "execution_count": 16,
   "id": "4e3072c2-c3d3-4cc6-b397-b9e334b267f3",
   "metadata": {},
   "outputs": [
    {
     "name": "stdout",
     "output_type": "stream",
     "text": [
      "Merge_tuples: (10, 20, 30, 40, 50, 60)\n"
     ]
    }
   ],
   "source": [
    "tuple1 = (10,20,30)\n",
    "tuple2 = (40,50,60)\n",
    "Merge_tuples = tuple1 + tuple2\n",
    "print(\"Merge_tuples:\", Merge_tuples)"
   ]
  },
  {
   "cell_type": "markdown",
   "id": "3e5c9fe9-da40-438a-9bdd-51f9e3d592a2",
   "metadata": {},
   "source": [
    "31. Flatten a nested tuple."
   ]
  },
  {
   "cell_type": "code",
   "execution_count": 3,
   "id": "68eede0e-3063-41a3-b215-c769111d7997",
   "metadata": {},
   "outputs": [
    {
     "name": "stdout",
     "output_type": "stream",
     "text": [
      "flattened_tuple (10, 20, 55, 45, 23, 67)\n"
     ]
    }
   ],
   "source": [
    "def flatten_tuple(nested_tuple):\n",
    "    flattened = []\n",
    "    for item in nested_tuple:\n",
    "        if isinstance(item, tuple):\n",
    "            flattened.extend(flatten_tuple(item))\n",
    "        else:\n",
    "            flattened.append(item)\n",
    "    return flattened\n",
    "nested_tuple = ((10,20), (55,45), (23,67))\n",
    "flattened_tuple = tuple(flatten_tuple(nested_tuple))\n",
    "print(\"flattened_tuple\", flattened_tuple)"
   ]
  },
  {
   "cell_type": "markdown",
   "id": "e28c76e2-b94e-411e-8a53-818a4385e3d8",
   "metadata": {},
   "source": [
    "32. Create a tuple of the first 5 prime numbers."
   ]
  },
  {
   "cell_type": "code",
   "execution_count": 9,
   "id": "e29f9032-bd34-483f-91ba-28efe4af5c86",
   "metadata": {},
   "outputs": [
    {
     "name": "stdout",
     "output_type": "stream",
     "text": [
      "tuple of the first 5 prime numbers: (2, 3, 5, 7, 11)\n"
     ]
    }
   ],
   "source": [
    "def is_prime(num):\n",
    "    if num <= 1:\n",
    "        return False\n",
    "    for i in range(2, int(num ** 0.5)+1):\n",
    "        if num % i == 0:\n",
    "            return False\n",
    "    return True\n",
    "prime_numbers_list = [num for num in range(2, 100) if is_prime(num)][:5]\n",
    "prime_numbers_tuple= tuple(prime_numbers_list)\n",
    "print(\"tuple of the first 5 prime numbers:\", prime_numbers_tuple)"
   ]
  },
  {
   "cell_type": "markdown",
   "id": "62ea3429-d3de-4a76-bc9e-cd56f09b8bfe",
   "metadata": {},
   "source": [
    "33. Check if a tuple is a palindrome."
   ]
  },
  {
   "cell_type": "code",
   "execution_count": 4,
   "id": "230ad383-dbf0-410b-b059-a4a343d65fde",
   "metadata": {},
   "outputs": [
    {
     "name": "stdin",
     "output_type": "stream",
     "text": [
      "Enter tuple:  (1,2,3,2,1)\n"
     ]
    },
    {
     "name": "stdout",
     "output_type": "stream",
     "text": [
      "No, it is not palindrome\n"
     ]
    }
   ],
   "source": [
    "def reverse(tuple):\n",
    "    return tuple[::-1]\n",
    "def is_palindrome(tuple):\n",
    "    return tuple == reverse(tuple)\n",
    "something = input(\"Enter tuple: \")\n",
    "if is_palindrome(something):\n",
    "    print(\"Yes, it is a palindrome\")\n",
    "else:\n",
    "    print(\"No, it is not palindrome\")"
   ]
  },
  {
   "cell_type": "markdown",
   "id": "8c6a35ae-ae6a-4e93-94ed-285e139ace3b",
   "metadata": {},
   "source": [
    "34. Create a tuple of squares of numbers from 1 to 5."
   ]
  },
  {
   "cell_type": "code",
   "execution_count": 8,
   "id": "68d1e11f-f7c7-47af-8132-f86205d6a4ed",
   "metadata": {},
   "outputs": [
    {
     "name": "stdout",
     "output_type": "stream",
     "text": [
      "tuple_of_squares: (1, 4, 9, 16, 25)\n"
     ]
    }
   ],
   "source": [
    "squares_tuple = tuple(x ** 2 for x in range(1,6))\n",
    "print(\"tuple_of_squares:\", squares_tuple)"
   ]
  },
  {
   "cell_type": "markdown",
   "id": "33d34ab6-d511-495e-9218-3afc4a530ead",
   "metadata": {},
   "source": [
    "35. Filter out all even numbers from a tuple."
   ]
  },
  {
   "cell_type": "code",
   "execution_count": 10,
   "id": "eeed74f7-d786-4fae-a792-05450f700a5d",
   "metadata": {},
   "outputs": [
    {
     "name": "stdout",
     "output_type": "stream",
     "text": [
      "filtered_tuple: (1, 3, 5, 7, 9)\n"
     ]
    }
   ],
   "source": [
    "original_tuple= (1,2,3,4,5,6,7,8,9,10)\n",
    "filtered_tuple=tuple(num for num in original_tuple if num %2 !=0)\n",
    "print(\"filtered_tuple:\", filtered_tuple)"
   ]
  },
  {
   "cell_type": "markdown",
   "id": "905ce3f4-0129-4fcc-9695-72d96379b371",
   "metadata": {},
   "source": [
    "36. Multiply all elements in a tuple by 2"
   ]
  },
  {
   "cell_type": "code",
   "execution_count": 11,
   "id": "7abce0c0-1c90-4817-9960-5ed53d54fdfd",
   "metadata": {},
   "outputs": [
    {
     "name": "stdout",
     "output_type": "stream",
     "text": [
      "doubled_tuple: (2, 4, 6, 8, 10)\n"
     ]
    }
   ],
   "source": [
    "original_tuple= (1,2,3,4,5)\n",
    "doubled_tuple = tuple(num*2 for num in original_tuple)\n",
    "print(\"doubled_tuple:\", doubled_tuple)"
   ]
  },
  {
   "cell_type": "markdown",
   "id": "1657a190-0d4d-4e7b-baf4-07d1bd7f6814",
   "metadata": {},
   "source": [
    "37. Create a tuple of random numbers."
   ]
  },
  {
   "cell_type": "code",
   "execution_count": 17,
   "id": "c39eee5c-3610-452b-bfdc-733fbee9ce2d",
   "metadata": {},
   "outputs": [
    {
     "name": "stdout",
     "output_type": "stream",
     "text": [
      "random tuple: (40, 49, 96, 66, 35, 25, 22, 93, 100, 97)\n"
     ]
    }
   ],
   "source": [
    "import random\n",
    "random_tuple = tuple(random.randint(1, 100) for _ in range(10))\n",
    "print(\"random tuple:\", random_tuple)"
   ]
  },
  {
   "cell_type": "markdown",
   "id": "91907fe1-b054-455d-94fd-0ffb13c0a86c",
   "metadata": {},
   "source": [
    "38. Check if a tuple is sorted."
   ]
  },
  {
   "cell_type": "code",
   "execution_count": 18,
   "id": "3d48838c-e6cc-40f4-a0ca-aab8208daa8c",
   "metadata": {},
   "outputs": [
    {
     "name": "stdout",
     "output_type": "stream",
     "text": [
      "True\n"
     ]
    }
   ],
   "source": [
    "def is_tuple_sorted(t):\n",
    "    for i in range(1, len(t)):\n",
    "        if t[i] < t[i-1]:\n",
    "            return False\n",
    "    return True\n",
    "t = (1, 2, 3, 4, 5)\n",
    "print(is_tuple_sorted(t))"
   ]
  },
  {
   "cell_type": "markdown",
   "id": "5fe3aeb2-82f5-437f-b3fe-6a5f22375979",
   "metadata": {},
   "source": [
    "39. Rotate a tuple to the left by `n` positions."
   ]
  },
  {
   "cell_type": "code",
   "execution_count": 2,
   "id": "d6063214-b4cc-42e4-accc-38e8128a70df",
   "metadata": {},
   "outputs": [
    {
     "name": "stdout",
     "output_type": "stream",
     "text": [
      "(3, 4, 1, 2)\n"
     ]
    }
   ],
   "source": [
    "def rotate_left(tup, n):\n",
    "    n = n%len(tup)\n",
    "    rotated_tuple= tup[n:]+tup[:n]\n",
    "    return rotated_tuple\n",
    "my_tuple = (1,2,3,4)\n",
    "n_position = 2\n",
    "result= rotate_left(my_tuple, n_position)\n",
    "print(result)"
   ]
  },
  {
   "cell_type": "markdown",
   "id": "5e8ed8a2-e13f-4584-a4dc-08904c1c3ce6",
   "metadata": {},
   "source": [
    "40. Rotate a tuple to the right by `n` positions."
   ]
  },
  {
   "cell_type": "code",
   "execution_count": 6,
   "id": "3a1edf94-3ddf-4743-a3b9-b95448e7c77e",
   "metadata": {},
   "outputs": [
    {
     "name": "stdout",
     "output_type": "stream",
     "text": [
      "(4, 5, 1, 2, 3)\n"
     ]
    }
   ],
   "source": [
    "def rotate_right(tup, n):\n",
    "    n = n%len(tup)\n",
    "    rotated_tuple= tup[-n:]+tup[:-n]\n",
    "    return rotated_tuple\n",
    "my_tuple = (1,2,3,4,5)\n",
    "n_position = 2\n",
    "result= rotate_right(my_tuple, n_position)\n",
    "print(result)"
   ]
  },
  {
   "cell_type": "markdown",
   "id": "19e6fcd7-45c6-4fb1-8b34-82fcf0c9d748",
   "metadata": {},
   "source": [
    "41. Create a tuple of the first 5 Fibonacci numbers."
   ]
  },
  {
   "cell_type": "code",
   "execution_count": 35,
   "id": "5ced1342-a698-49cf-a2c1-25e7ab0e3997",
   "metadata": {},
   "outputs": [
    {
     "name": "stdout",
     "output_type": "stream",
     "text": [
      "Fibonacci sequence:\n",
      "0\n",
      "1\n",
      "1\n",
      "2\n",
      "3\n"
     ]
    }
   ],
   "source": [
    "n1, n2 = 0, 1\n",
    "count = 0\n",
    "print(\"Fibonacci sequence:\")\n",
    "while count < 5:\n",
    "  print(n1)\n",
    "  nth = n1 + n2\n",
    "  n1 = n2\n",
    "  n2 = nth\n",
    "  count += 1"
   ]
  },
  {
   "cell_type": "markdown",
   "id": "8d375f54-a9a0-43d9-be5d-83bfbc7f043a",
   "metadata": {},
   "source": [
    "42. Create a tuple from user input"
   ]
  },
  {
   "cell_type": "code",
   "execution_count": 36,
   "id": "9adfa3dd-c87b-4dad-a4cc-84c456eebf0e",
   "metadata": {},
   "outputs": [
    {
     "name": "stdin",
     "output_type": "stream",
     "text": [
      "enter tuple sandy\n"
     ]
    },
    {
     "name": "stdout",
     "output_type": "stream",
     "text": [
      "('s', 'a', 'n', 'd', 'y')\n"
     ]
    }
   ],
   "source": [
    "tup = tuple(input(\"enter tuple\"))\n",
    "print(tup)"
   ]
  },
  {
   "cell_type": "markdown",
   "id": "76444314-8756-4934-9ea0-8eaf4069068a",
   "metadata": {},
   "source": [
    "43. Swap two elements in a tuple"
   ]
  },
  {
   "cell_type": "code",
   "execution_count": 41,
   "id": "8377492b-99ce-48a2-8f48-cedfac75e00d",
   "metadata": {},
   "outputs": [],
   "source": [
    "a,b = (1,2)\n",
    "a,b = b,a"
   ]
  },
  {
   "cell_type": "code",
   "execution_count": 42,
   "id": "2876a9f5-cc4f-4329-bdf8-e7ab844c58dc",
   "metadata": {},
   "outputs": [
    {
     "data": {
      "text/plain": [
       "(2, 1)"
      ]
     },
     "execution_count": 42,
     "metadata": {},
     "output_type": "execute_result"
    }
   ],
   "source": [
    "a,b"
   ]
  },
  {
   "cell_type": "markdown",
   "id": "c7d2032f-35af-4fe3-9c91-185cfcd1ab8c",
   "metadata": {},
   "source": [
    "44. Reverse the elements of a tuple."
   ]
  },
  {
   "cell_type": "code",
   "execution_count": 49,
   "id": "ceed2b22-887f-4b70-b5a6-4feefcce630f",
   "metadata": {},
   "outputs": [
    {
     "name": "stdout",
     "output_type": "stream",
     "text": [
      "reversed_tuple: (4, 3, 2, 1)\n"
     ]
    }
   ],
   "source": [
    "n = (1,2,3,4)\n",
    "reversed_tuple = n[::-1]\n",
    "print(\"reversed_tuple:\", reversed_tuple)"
   ]
  },
  {
   "cell_type": "markdown",
   "id": "c870b1ab-9486-49c3-8f2f-baaa5c14b317",
   "metadata": {},
   "source": [
    "45. Create a tuple of the first `n` powers of 2."
   ]
  },
  {
   "cell_type": "code",
   "execution_count": 55,
   "id": "e709614f-da5d-4a15-a2bc-808ec8c8d754",
   "metadata": {},
   "outputs": [
    {
     "data": {
      "text/plain": [
       "[1, 4, 9, 16]"
      ]
     },
     "execution_count": 55,
     "metadata": {},
     "output_type": "execute_result"
    }
   ],
   "source": [
    "x = [1, 2, 3, 4]\n",
    "def power(n):\n",
    "    return n * n\n",
    "list(map(power, x))"
   ]
  },
  {
   "cell_type": "markdown",
   "id": "fcda56f4-4076-4363-af42-669dbca92cf0",
   "metadata": {},
   "source": [
    "46. Find the longest string in a tuple of strings."
   ]
  },
  {
   "cell_type": "code",
   "execution_count": 56,
   "id": "2fe0a43b-f31c-4a7f-8b45-70cc4ea27f9a",
   "metadata": {},
   "outputs": [
    {
     "name": "stdout",
     "output_type": "stream",
     "text": [
      "Longest String is  :  watermelon\n"
     ]
    }
   ],
   "source": [
    "list = ['apple', 'banana', 'watermelon', 'orange'] \n",
    "res = max(list, key=len) \n",
    "print(\"Longest String is  : \", res)"
   ]
  },
  {
   "cell_type": "markdown",
   "id": "2384c5c5-1c94-4613-a36c-a8705f86502b",
   "metadata": {},
   "source": [
    "47. Find the shortest string in a tuple of strings."
   ]
  },
  {
   "cell_type": "code",
   "execution_count": 58,
   "id": "90852a15-36e5-47fd-b4e2-d3fc142d7e35",
   "metadata": {},
   "outputs": [
    {
     "name": "stdout",
     "output_type": "stream",
     "text": [
      "The original list :  ['apple', 'banana', 'watermelon', 'date']\n",
      "shortest_string: date\n"
     ]
    }
   ],
   "source": [
    "test_list = ['apple', 'banana', 'watermelon', 'date'] \n",
    "print(\"The original list : \" , test_list)\n",
    "shortest_string=test_list[0]\n",
    "for s in test_list:\n",
    "    if len(s)<len(shortest_string):\n",
    "        shortest_string = s\n",
    "print(\"shortest_string:\", shortest_string)"
   ]
  },
  {
   "cell_type": "markdown",
   "id": "0ee0676a-9404-488a-b021-fd0af8a9523a",
   "metadata": {},
   "source": [
    "48. Create a tuple of the first `n` triangular numbers."
   ]
  },
  {
   "cell_type": "code",
   "execution_count": 59,
   "id": "8ca41dd9-31af-4bec-a483-754aae3bd1d0",
   "metadata": {},
   "outputs": [
    {
     "name": "stdout",
     "output_type": "stream",
     "text": [
      "list of the first n triangular numbers: [1, 3, 6, 10, 15]\n"
     ]
    }
   ],
   "source": [
    "def triangular_numbers(n):\n",
    "    return[i*(i+1)//2for i in range(1,n+1)]\n",
    "n=5\n",
    "triangular_list=triangular_numbers(n)\n",
    "print(\"list of the first n triangular numbers:\", triangular_list)"
   ]
  },
  {
   "cell_type": "markdown",
   "id": "9523105b-c8fd-4e39-94c7-fd690190cad5",
   "metadata": {},
   "source": [
    "49. Check if a tuple contains another tuple as a subsequence."
   ]
  },
  {
   "cell_type": "code",
   "execution_count": 61,
   "id": "8047aeba-9bf7-4c54-a657-d77db502696c",
   "metadata": {},
   "outputs": [
    {
     "name": "stdout",
     "output_type": "stream",
     "text": [
      "main tuple does not contains subsequence\n"
     ]
    }
   ],
   "source": [
    "def is_subsequence(subsequence, main_tuple):\n",
    "    subseq_index =0\n",
    "    for element in main_tuple:\n",
    "        if element == subsequence[subseq_index]:\n",
    "            subseq_index += 1\n",
    "            if subseq_inex == len(subsequence):\n",
    "                return True\n",
    "        return False\n",
    "main_tuple = [1,2,3,4,5,6,7,8,9,10]\n",
    "subsequence = [3,4,5]\n",
    "if is_subsequence(subsequence, main_tuple):\n",
    "    print(\"main tuple contains subsequence\")\n",
    "else:\n",
    "    print(\"main tuple does not contains subsequence\")"
   ]
  },
  {
   "cell_type": "markdown",
   "id": "03195db7-e4f2-4bdd-8a42-1686426900a6",
   "metadata": {},
   "source": [
    "50. Create a tuple of alternating 1s and 0s of length `n`."
   ]
  },
  {
   "cell_type": "code",
   "execution_count": 64,
   "id": "a85889e5-0e35-484d-837e-fc26d9a3ced5",
   "metadata": {},
   "outputs": [
    {
     "name": "stdout",
     "output_type": "stream",
     "text": [
      "tuple of alternating 1s and 0s: (0, 1, 0, 1, 0)\n"
     ]
    }
   ],
   "source": [
    "x =10\n",
    "alternating_tuple = tuple(i%2for i in range(n))\n",
    "print(\"tuple of alternating 1s and 0s:\", alternating_tuple)"
   ]
  },
  {
   "cell_type": "markdown",
   "id": "03bc4d35-b21b-47a0-bf67-2de7242a4e8f",
   "metadata": {},
   "source": [
    "Set Based Practice Problem :"
   ]
  },
  {
   "cell_type": "markdown",
   "id": "eeb824d0-1b86-47d7-8b95-1d87d9784b37",
   "metadata": {},
   "source": [
    "1. Create a set with integers from 1 to 5."
   ]
  },
  {
   "cell_type": "code",
   "execution_count": 66,
   "id": "e5ba7aba-4803-4213-a8c1-96163a99ff6b",
   "metadata": {},
   "outputs": [
    {
     "name": "stdout",
     "output_type": "stream",
     "text": [
      "{1, 2, 3, 4, 5}\n"
     ]
    }
   ],
   "source": [
    "x=set()\n",
    "x.add(1)\n",
    "x.add(2)\n",
    "x.add(3)\n",
    "x.add(4)\n",
    "x.add(5)\n",
    "print(x)"
   ]
  },
  {
   "cell_type": "markdown",
   "id": "130c9e8f-512e-4d50-8522-364e8186b05c",
   "metadata": {},
   "source": [
    "2. Add an element to a set."
   ]
  },
  {
   "cell_type": "code",
   "execution_count": 1,
   "id": "783d97fe-471c-45e8-8fde-a7c3350acc9b",
   "metadata": {},
   "outputs": [
    {
     "name": "stdout",
     "output_type": "stream",
     "text": [
      "{2, 3, 5, 7, 11}\n"
     ]
    }
   ],
   "source": [
    "prime_numbers = {2, 3, 5, 7}\n",
    "prime_numbers.add(11)\n",
    "print(prime_numbers)"
   ]
  },
  {
   "cell_type": "markdown",
   "id": "bb2d6f12-4b7d-49e7-9cd3-30fd043db0a6",
   "metadata": {},
   "source": [
    "3. Remove an element from a set."
   ]
  },
  {
   "cell_type": "code",
   "execution_count": 2,
   "id": "844d971f-df81-4124-94cc-733cf8f7b7f7",
   "metadata": {},
   "outputs": [
    {
     "name": "stdout",
     "output_type": "stream",
     "text": [
      "{'apple', 'cherry'}\n"
     ]
    }
   ],
   "source": [
    "fruits = {\"apple\", \"pineapple\", \"cherry\"}\n",
    "fruits.remove(\"pineapple\")\n",
    "print(fruits)"
   ]
  },
  {
   "cell_type": "markdown",
   "id": "ceaccb73-4b02-4c56-8166-4ded3c5959c7",
   "metadata": {},
   "source": [
    "4. Check if an element exists in a set."
   ]
  },
  {
   "cell_type": "code",
   "execution_count": 3,
   "id": "a62eaa93-6cf3-4f5d-98e3-22cde14d9a3b",
   "metadata": {},
   "outputs": [
    {
     "name": "stdout",
     "output_type": "stream",
     "text": [
      "Yes, 'apple' is in this set\n"
     ]
    }
   ],
   "source": [
    "set = {\"apple\", \"banana\", \"cherry\"}\n",
    "if \"apple\" in set:\n",
    "  print(\"Yes, 'apple' is in this set\")"
   ]
  },
  {
   "cell_type": "markdown",
   "id": "b24d4b7d-7e33-45eb-ba0d-8aa25f3dae10",
   "metadata": {},
   "source": [
    "5. Find the length of a set without using the `len()` function."
   ]
  },
  {
   "cell_type": "code",
   "execution_count": 5,
   "id": "26092e51-6cef-4b15-87ae-d8dd07dd0669",
   "metadata": {},
   "outputs": [
    {
     "name": "stdout",
     "output_type": "stream",
     "text": [
      "the length of the s is 7\n"
     ]
    }
   ],
   "source": [
    "s = \"sandhya\"\n",
    "i = 0\n",
    "for x in s :\n",
    "    i+=1\n",
    "print(\"the length of the s is \"+ str(i))"
   ]
  },
  {
   "cell_type": "markdown",
   "id": "c21c2cf3-1a2c-4570-a05f-db4f90c6a94c",
   "metadata": {},
   "source": [
    "6. Clear all elements from a set"
   ]
  },
  {
   "cell_type": "code",
   "execution_count": 6,
   "id": "41092a89-a54f-45cf-9cb4-3e52a6f4f4b8",
   "metadata": {},
   "outputs": [
    {
     "name": "stdout",
     "output_type": "stream",
     "text": [
      "{2, 4, 5, 8, 9}\n",
      "set()\n"
     ]
    }
   ],
   "source": [
    "set_numbers = {2, 5, 8, 9, 4}\n",
    "print(set_numbers)\n",
    "set_numbers.clear()\n",
    "print(set_numbers)"
   ]
  },
  {
   "cell_type": "markdown",
   "id": "3b82301f-24ae-4c02-8b85-4aef3399ea56",
   "metadata": {},
   "source": [
    "7. Create a set of even numbers from 1 to 10."
   ]
  },
  {
   "cell_type": "code",
   "execution_count": 7,
   "id": "b1498861-a0fb-4d79-b991-797934609979",
   "metadata": {},
   "outputs": [
    {
     "data": {
      "text/plain": [
       "[2, 4, 6, 8, 10]"
      ]
     },
     "execution_count": 7,
     "metadata": {},
     "output_type": "execute_result"
    }
   ],
   "source": [
    "list(range(2,11,2))"
   ]
  },
  {
   "cell_type": "markdown",
   "id": "44f23f4c-9c27-409e-8d6d-8e282abd8ca8",
   "metadata": {},
   "source": [
    "8. Create a set of odd numbers from 1 to 10"
   ]
  },
  {
   "cell_type": "code",
   "execution_count": 8,
   "id": "fcd24e08-4566-44ca-9880-d0ec8356407f",
   "metadata": {},
   "outputs": [
    {
     "data": {
      "text/plain": [
       "[1, 3, 5, 7, 9]"
      ]
     },
     "execution_count": 8,
     "metadata": {},
     "output_type": "execute_result"
    }
   ],
   "source": [
    "list(range(1,11,2))"
   ]
  },
  {
   "cell_type": "markdown",
   "id": "34bf21f8-c507-4486-b56e-01d17fb29c8f",
   "metadata": {},
   "source": [
    "9. Find the union of two sets."
   ]
  },
  {
   "cell_type": "code",
   "execution_count": 9,
   "id": "b261b404-6429-41e5-8442-adcd152c49e4",
   "metadata": {},
   "outputs": [
    {
     "name": "stdout",
     "output_type": "stream",
     "text": [
      "{'Jadhav', 'khanapurkar', 'patil', 'sandhya'}\n"
     ]
    }
   ],
   "source": [
    "s1 = {'sandhya', 'Jadhav'}\n",
    "s2 = {'patil', 'khanapurkar'}\n",
    "s = s1.union(s2)\n",
    "print(s)"
   ]
  },
  {
   "cell_type": "markdown",
   "id": "bb4165b4-cc60-4f9e-894e-c116637ddd21",
   "metadata": {},
   "source": [
    "10. Find the intersection of two sets."
   ]
  },
  {
   "cell_type": "code",
   "execution_count": 10,
   "id": "7541b177-eac3-486b-a33f-b8f7a33b489b",
   "metadata": {},
   "outputs": [
    {
     "name": "stdout",
     "output_type": "stream",
     "text": [
      "{2, 3}\n"
     ]
    }
   ],
   "source": [
    "s1 = {1, 2, 3}\n",
    "s2 = {2, 3}\n",
    "print(s1.intersection(s2))"
   ]
  },
  {
   "cell_type": "markdown",
   "id": "254b9f3d-4dcc-475d-b1c4-4523ed78db11",
   "metadata": {},
   "source": [
    "11. Find the difference between two sets."
   ]
  },
  {
   "cell_type": "code",
   "execution_count": 11,
   "id": "856bcf04-7d7c-42e1-99e2-7c108ab75bfd",
   "metadata": {},
   "outputs": [
    {
     "name": "stdout",
     "output_type": "stream",
     "text": [
      "{1}\n"
     ]
    }
   ],
   "source": [
    "s1 = {1, 2, 3}\n",
    "s2 = {2, 3}\n",
    "print(s1.difference(s2))"
   ]
  },
  {
   "cell_type": "markdown",
   "id": "9f62bcf9-7f30-4d0f-bc98-37fda9aff00d",
   "metadata": {},
   "source": [
    "12. Check if a set is a subset of another set."
   ]
  },
  {
   "cell_type": "markdown",
   "id": "440be198-797a-4771-861a-44b99d1bc952",
   "metadata": {},
   "source": [
    "A = {1, 2, 3}\n",
    "B = {1, 2, 3, 4, 5}\n",
    "print(A.issubset(B))"
   ]
  },
  {
   "cell_type": "markdown",
   "id": "636be495-116a-4482-a0ad-095e5e76cbc0",
   "metadata": {},
   "source": [
    "13. Check if a set is a superset of another set."
   ]
  },
  {
   "cell_type": "code",
   "execution_count": 13,
   "id": "7b16d8b3-4d4f-42cf-89f3-88d0f7f259de",
   "metadata": {},
   "outputs": [
    {
     "name": "stdout",
     "output_type": "stream",
     "text": [
      "False\n"
     ]
    }
   ],
   "source": [
    "A = {1, 2, 3}\n",
    "B = {1, 2, 3, 4, 5}\n",
    "print(A.issuperset(B))"
   ]
  },
  {
   "cell_type": "markdown",
   "id": "3ee39b97-92dd-43c0-be2d-e98e617b5be9",
   "metadata": {},
   "source": [
    "14. Create a set from a list."
   ]
  },
  {
   "cell_type": "code",
   "execution_count": 20,
   "id": "dff9ab6a-5a7b-439f-bf32-12b3d06953cb",
   "metadata": {},
   "outputs": [
    {
     "name": "stdout",
     "output_type": "stream",
     "text": [
      "['sandhya', 'patil']\n"
     ]
    }
   ],
   "source": [
    "sample_list = [\"sandhya\", \"patil\"]\n",
    "print(sample_list)"
   ]
  },
  {
   "cell_type": "markdown",
   "id": "28da13a1-d8f8-41c9-a459-5fd69982c89d",
   "metadata": {},
   "source": [
    "15. Convert a set to a list."
   ]
  },
  {
   "cell_type": "code",
   "execution_count": 25,
   "id": "77a7bc44-9456-4e32-81bf-07fd8a38794d",
   "metadata": {},
   "outputs": [
    {
     "name": "stdout",
     "output_type": "stream",
     "text": [
      "[40, 10, 20, 30]\n"
     ]
    }
   ],
   "source": [
    "sample_set = {10, 20, 30, 40}\n",
    "l = []\n",
    "for i in sample_set:\n",
    "    l.append(i)\n",
    "print(l)"
   ]
  },
  {
   "cell_type": "markdown",
   "id": "a7af0f0a-34fd-4fd1-9749-762864471ba1",
   "metadata": {},
   "source": [
    "16. Remove a random element from a set."
   ]
  },
  {
   "cell_type": "code",
   "execution_count": 32,
   "id": "59706d46-4eb6-4cfd-9683-8dd5a348b3fe",
   "metadata": {},
   "outputs": [
    {
     "name": "stdout",
     "output_type": "stream",
     "text": [
      "The input set is: {50, 20, 40, 10, 60, 30}\n",
      "The output set is: {20, 40, 10, 60, 30}\n",
      "The popped element is: 50\n"
     ]
    }
   ],
   "source": [
    "mySet = {10, 20, 30, 40, 50, 60}\n",
    "print(\"The input set is:\", mySet)\n",
    "element = mySet.pop()\n",
    "print(\"The output set is:\", mySet)\n",
    "print(\"The popped element is:\", element)"
   ]
  },
  {
   "cell_type": "markdown",
   "id": "c21fa221-55a4-4f81-8d86-327daa8613cf",
   "metadata": {},
   "source": [
    "17. Pop an element from a set."
   ]
  },
  {
   "cell_type": "code",
   "execution_count": 33,
   "id": "b0ae7604-fd10-4856-9bcd-b7100a51084b",
   "metadata": {},
   "outputs": [
    {
     "name": "stdout",
     "output_type": "stream",
     "text": [
      "{'rassam', 'banana'}\n"
     ]
    }
   ],
   "source": [
    "fruits = {\"juice\", \"banana\", \"rassam\"}\n",
    "fruits.pop()\n",
    "print(fruits)"
   ]
  },
  {
   "cell_type": "markdown",
   "id": "43a8f322-1ebf-4f51-ac0a-6602d464d86f",
   "metadata": {},
   "source": [
    "18. Check if two sets have no elements in common."
   ]
  },
  {
   "cell_type": "code",
   "execution_count": 40,
   "id": "cae07009-7577-4b91-b4b0-8e68bba9a8f3",
   "metadata": {},
   "outputs": [
    {
     "name": "stdout",
     "output_type": "stream",
     "text": [
      "two sets have no common elements\n"
     ]
    }
   ],
   "source": [
    "s1 = {1, 2, 3}\n",
    "s2 = {5, 6, 7}\n",
    "common_elements= s1.intersection(s2)\n",
    "if not common_elements:\n",
    "    print(\"two sets have no common elements\")\n",
    "else:\n",
    "    print(\"two sets have common elements:\", common_elements)"
   ]
  },
  {
   "cell_type": "markdown",
   "id": "3e11ae8b-b678-4680-8ae3-fc4459d437de",
   "metadata": {},
   "source": [
    "19. Find the symmetric difference between two sets."
   ]
  },
  {
   "cell_type": "code",
   "execution_count": 41,
   "id": "daf13383-fa3e-4388-b30f-8ecdcf8d801e",
   "metadata": {},
   "outputs": [
    {
     "name": "stdout",
     "output_type": "stream",
     "text": [
      "{1, 2, 5, 6, 7, 9}\n"
     ]
    }
   ],
   "source": [
    "A = {1, 2, 3, 4, 5}\n",
    "B = {6, 7, 3, 9, 4}\n",
    "print(A.symmetric_difference(B))"
   ]
  },
  {
   "cell_type": "markdown",
   "id": "2411440c-67d0-4e98-89a8-077c4724eeef",
   "metadata": {},
   "source": [
    "20. Update a set with elements from another set."
   ]
  },
  {
   "cell_type": "code",
   "execution_count": 42,
   "id": "1e2149ee-1593-4c46-8c4e-4949f20ed33d",
   "metadata": {},
   "outputs": [
    {
     "name": "stdout",
     "output_type": "stream",
     "text": [
      "{1, 2, 3, 'b', 'a'}\n"
     ]
    }
   ],
   "source": [
    "A = {'a', 'b'}\n",
    "B = {1, 2, 3}\n",
    "A.update(B)\n",
    "print(A)"
   ]
  },
  {
   "cell_type": "markdown",
   "id": "5c9bb6dd-0d79-4fa0-8274-b137f2fc2603",
   "metadata": {},
   "source": [
    "21. Create a set of the first 5 prime numbers."
   ]
  },
  {
   "cell_type": "code",
   "execution_count": 55,
   "id": "09d0e4d6-9392-46e3-8409-27f89eda47c8",
   "metadata": {},
   "outputs": [
    {
     "name": "stdin",
     "output_type": "stream",
     "text": [
      " 11\n"
     ]
    },
    {
     "name": "stdout",
     "output_type": "stream",
     "text": [
      "2\n",
      "3\n",
      "5\n",
      "7\n",
      "11\n"
     ]
    }
   ],
   "source": [
    "def isprime(n): \n",
    "   if n<=1: \n",
    "      return False \n",
    "   for i in range(2,n): \n",
    "      if n%i==0: \n",
    "        return False \n",
    "   return True \n",
    " \n",
    "N = int(input()) \n",
    "for i in range(N+1): \n",
    "   if isprime(i): \n",
    "       print(i)"
   ]
  },
  {
   "cell_type": "markdown",
   "id": "94be04e3-c84b-4007-87bb-7d0a9d8419dd",
   "metadata": {},
   "source": [
    "22. Check if two sets are identical."
   ]
  },
  {
   "cell_type": "code",
   "execution_count": 56,
   "id": "2ff04a43-0d7f-4f56-967e-1761974a3ab4",
   "metadata": {},
   "outputs": [
    {
     "name": "stdout",
     "output_type": "stream",
     "text": [
      "True\n"
     ]
    }
   ],
   "source": [
    "name= {1,2,3,4,5}\n",
    "points= {1,2,3,4,5}\n",
    "print(name==points)"
   ]
  },
  {
   "cell_type": "markdown",
   "id": "62497cc9-f7a5-4756-bc68-bf0aaef8923e",
   "metadata": {},
   "source": [
    "23. Create a frozen set."
   ]
  },
  {
   "cell_type": "code",
   "execution_count": 59,
   "id": "5ae12619-cd3d-4f4e-8d6f-9e37bb0b32b6",
   "metadata": {},
   "outputs": [
    {
     "name": "stdout",
     "output_type": "stream",
     "text": [
      "The frozen set is: frozenset({1, 2, 3, 4, 5})\n"
     ]
    }
   ],
   "source": [
    "numbers = [1,2,3,4,5]\n",
    "fSet = frozenset(numbers)\n",
    "print('The frozen set is:', fSet)"
   ]
  },
  {
   "cell_type": "markdown",
   "id": "cb4f5176-b9a6-4a00-b8c2-7afd9d367bf5",
   "metadata": {},
   "source": [
    "24. Check if a set is disjoint with another set."
   ]
  },
  {
   "cell_type": "code",
   "execution_count": 64,
   "id": "71ba78aa-a5fd-4337-9795-42b3e823f025",
   "metadata": {},
   "outputs": [
    {
     "name": "stdout",
     "output_type": "stream",
     "text": [
      "True\n"
     ]
    }
   ],
   "source": [
    "s1 = {1, 2, 3}\n",
    "s2 = {4, 5, 6}\n",
    "print(s1.isdisjoint(s2))"
   ]
  },
  {
   "cell_type": "markdown",
   "id": "b1d0f3b5-7c07-428f-a5df-07e18f5c8994",
   "metadata": {},
   "source": [
    "25. Create a set of squares of numbers from 1 to 5."
   ]
  },
  {
   "cell_type": "code",
   "execution_count": 65,
   "id": "808ba6e2-a3d5-4581-b692-06a9a746ebff",
   "metadata": {},
   "outputs": [
    {
     "name": "stdout",
     "output_type": "stream",
     "text": [
      "[1, 4, 9, 16, 25]\n"
     ]
    }
   ],
   "source": [
    "sample_list = [1,2,3,4,5]\n",
    "result = [number ** 2 for number in sample_list]\n",
    "print(result)"
   ]
  },
  {
   "cell_type": "markdown",
   "id": "33eec597-c617-4b15-b981-1feeada43da8",
   "metadata": {},
   "source": [
    "26. Filter out all even numbers from a set."
   ]
  },
  {
   "cell_type": "code",
   "execution_count": 67,
   "id": "1d01ab65-9b13-44bb-9137-c66534f9bb5a",
   "metadata": {},
   "outputs": [
    {
     "name": "stdout",
     "output_type": "stream",
     "text": [
      "10 22 4 66 "
     ]
    }
   ],
   "source": [
    "set = [10, 22, 4, 49, 66, 11]\n",
    "for num in set:\n",
    "    if num % 2 == 0:\n",
    "        print(num, end=\" \")"
   ]
  },
  {
   "cell_type": "markdown",
   "id": "483e8af2-88bb-467a-9b42-4583f7928d52",
   "metadata": {},
   "source": [
    "27. Multiply all elements in a set by 2."
   ]
  },
  {
   "cell_type": "code",
   "execution_count": null,
   "id": "0d50d725-8a9c-432f-9a5f-33b85e463637",
   "metadata": {},
   "outputs": [
    {
     "name": "stdout",
     "output_type": "stream",
     "text": [
      "multiplied_list: [20, 40, 60, 80, 100, 120]\n"
     ]
    }
   ],
   "source": [
    "my_list= [10,20,30,40,50,60]\n",
    "multiply_list = [x*2 for x in my_list]\n",
    "print(\"multiplied_list:\", multiply_list)"
   ]
  },
  {
   "cell_type": "markdown",
   "id": "6aa69582-6aee-44c7-9672-3cc24c04712c",
   "metadata": {},
   "source": [
    "28. Create a set of random numbers."
   ]
  },
  {
   "cell_type": "code",
   "execution_count": 88,
   "id": "9c87a7e4-227d-4b4d-88f2-4c613502ca30",
   "metadata": {},
   "outputs": [
    {
     "name": "stdout",
     "output_type": "stream",
     "text": [
      "Random numbers between 0 and 9: \n",
      "2\n"
     ]
    }
   ],
   "source": [
    "import random\n",
    "print(\"Random numbers between 0 and 9: \")\n",
    "for i in range(1, 10):\n",
    "     y = random.randrange(9)\n",
    "print(y)"
   ]
  },
  {
   "cell_type": "markdown",
   "id": "bb1d37b1-6868-4367-a63d-25df1ce557bd",
   "metadata": {},
   "source": [
    "29. Check if a set is empty."
   ]
  },
  {
   "cell_type": "code",
   "execution_count": 89,
   "id": "28e6c9ce-8e0f-400a-86cd-3aae8bdc6875",
   "metadata": {},
   "outputs": [
    {
     "name": "stdout",
     "output_type": "stream",
     "text": [
      "set is empty\n"
     ]
    }
   ],
   "source": [
    "MySet = {}\n",
    "if not MySet:\n",
    "    print (\"set is empty\")\n",
    "else:\n",
    "    print (\"set is not empty\")"
   ]
  },
  {
   "cell_type": "markdown",
   "id": "9d55579f-39ff-4724-86ae-f61fb8f66a7f",
   "metadata": {},
   "source": [
    "30. Create a nested set (hint: use frozenset)."
   ]
  },
  {
   "cell_type": "code",
   "execution_count": 92,
   "id": "2f16cd5c-2e4c-477e-a5bb-5ca6c75e5115",
   "metadata": {},
   "outputs": [
    {
     "name": "stdout",
     "output_type": "stream",
     "text": [
      "nested_set: (frozenset({1, 2, 3, 4}), frozenset({8, 5, 6, 7}))\n"
     ]
    }
   ],
   "source": [
    "s1= {1,2,3,4}\n",
    "s2= {5,6,7,8}\n",
    "frozen_set1 = frozenset(s1)\n",
    "frozen_set2 = frozenset(s2)\n",
    "nested_set = frozen_set1, frozen_set2\n",
    "print(\"nested_set:\", nested_set)"
   ]
  },
  {
   "cell_type": "markdown",
   "id": "0849b0b9-12e3-4bb6-a627-f54919e60f12",
   "metadata": {},
   "source": [
    "31. Remove an element from a set using the discard method."
   ]
  },
  {
   "cell_type": "code",
   "execution_count": 99,
   "id": "db49d911-adc1-4f01-b937-b4cc7dc4887c",
   "metadata": {},
   "outputs": [
    {
     "name": "stdout",
     "output_type": "stream",
     "text": [
      "{'orange', 'cherry'}\n"
     ]
    }
   ],
   "source": [
    "fruits = {\"cherry\", \"banana\", \"orange\"}\n",
    "fruits.discard(\"banana\")\n",
    "print(fruits)"
   ]
  },
  {
   "cell_type": "markdown",
   "id": "cafa3f9d-ab21-4941-8f6f-f084c917dcc4",
   "metadata": {},
   "source": [
    "32. Compare two sets."
   ]
  },
  {
   "cell_type": "code",
   "execution_count": 100,
   "id": "043ce947-aa75-47d0-a0d0-c2d9ca720b68",
   "metadata": {},
   "outputs": [
    {
     "name": "stdout",
     "output_type": "stream",
     "text": [
      "{1}\n"
     ]
    }
   ],
   "source": [
    "s1 = {1, 2, 3, 4}\n",
    "s2 = {2, 3, 4}\n",
    "print(s1.difference(s2))"
   ]
  },
  {
   "cell_type": "markdown",
   "id": "9306b48d-2ca6-422b-971e-2b327093a2d3",
   "metadata": {},
   "source": [
    "33. Create a set from a string."
   ]
  },
  {
   "cell_type": "code",
   "execution_count": 1,
   "id": "6157fd4b-147e-4afe-bef8-6f88d710d5fe",
   "metadata": {},
   "outputs": [
    {
     "name": "stdout",
     "output_type": "stream",
     "text": [
      "{'l', 'o', 'e', 'h'}\n"
     ]
    }
   ],
   "source": [
    "input_string =\"hello\"\n",
    "char_set = set(input_string)\n",
    "print(char_set)"
   ]
  },
  {
   "cell_type": "markdown",
   "id": "460653b2-454c-4019-9971-d252ea2d87d1",
   "metadata": {},
   "source": [
    "34. Convert a set of strings to a set of integers."
   ]
  },
  {
   "cell_type": "code",
   "execution_count": 4,
   "id": "67485341-bf1b-416c-b490-842e2eda980b",
   "metadata": {},
   "outputs": [
    {
     "name": "stdout",
     "output_type": "stream",
     "text": [
      "Modified list is:  [123, -445, 335, -656, 789]\n"
     ]
    }
   ],
   "source": [
    "list = ['123', '-445', '335', '-656', '789']\n",
    "res = [eval(i) for i in list]\n",
    "print(\"Modified list is: \", res)"
   ]
  },
  {
   "cell_type": "markdown",
   "id": "efdae81f-21bc-4abd-84d3-d3393d0e92d5",
   "metadata": {},
   "source": [
    "35. Convert a set of integers to a set of strings."
   ]
  },
  {
   "cell_type": "code",
   "execution_count": 2,
   "id": "62f7b319-5bc6-45e0-8982-7c91674b493b",
   "metadata": {},
   "outputs": [
    {
     "name": "stdout",
     "output_type": "stream",
     "text": [
      "['1', '11', '13', '41', '131']\n"
     ]
    }
   ],
   "source": [
    "list_int = [1, 11, 13, 41, 131]\n",
    "list_string = map(str, list_int)\n",
    "print(list(list_string))"
   ]
  },
  {
   "cell_type": "markdown",
   "id": "30ad722a-e394-4113-879c-56f3f2432c8a",
   "metadata": {},
   "source": [
    "36. Create a set from a tuple."
   ]
  },
  {
   "cell_type": "code",
   "execution_count": 4,
   "id": "87da52fc-51b7-4a9a-90f5-1892f5e2b7a3",
   "metadata": {},
   "outputs": [
    {
     "name": "stdout",
     "output_type": "stream",
     "text": [
      "{1, 2, 3}\n"
     ]
    }
   ],
   "source": [
    "my_tuple = (1, 2, 3)\n",
    "my_set = set(my_tuple)\n",
    "print(my_set)"
   ]
  },
  {
   "cell_type": "markdown",
   "id": "8c8c0177-4de9-4398-a4c4-84b181d25115",
   "metadata": {},
   "source": [
    "37. Convert a set to a tuple."
   ]
  },
  {
   "cell_type": "code",
   "execution_count": 6,
   "id": "e1d53b97-3a53-438b-8619-3afe0a7064fe",
   "metadata": {},
   "outputs": [
    {
     "name": "stdout",
     "output_type": "stream",
     "text": [
      "(1, 2, 3)\n"
     ]
    }
   ],
   "source": [
    "my_set = {1, 2, 3}\n",
    "my_tuple = tuple(my_set)\n",
    "print(my_tuple)"
   ]
  },
  {
   "cell_type": "markdown",
   "id": "0977c3ca-b32a-48a0-b8bc-52b0fb4f9bca",
   "metadata": {},
   "source": [
    "38. Find the maximum value in a set."
   ]
  },
  {
   "cell_type": "code",
   "execution_count": 9,
   "id": "124ef5ec-5215-4e8e-a33c-e0ab490abf04",
   "metadata": {},
   "outputs": [
    {
     "name": "stdout",
     "output_type": "stream",
     "text": [
      "Maximum_value: 100\n"
     ]
    }
   ],
   "source": [
    "my_set=[15,40,30,90,100,60,80]\n",
    "max_value = max(my_set)\n",
    "print(\"Maximum_value:\", max_value)"
   ]
  },
  {
   "cell_type": "markdown",
   "id": "d95103e2-6dea-412a-88cf-57030c337aff",
   "metadata": {},
   "source": [
    "39. Find the minimum value in a set."
   ]
  },
  {
   "cell_type": "code",
   "execution_count": 10,
   "id": "9869993f-7395-4646-99c5-540046c89d49",
   "metadata": {},
   "outputs": [
    {
     "name": "stdout",
     "output_type": "stream",
     "text": [
      "Minimum_value: 15\n"
     ]
    }
   ],
   "source": [
    "my_set=[15,40,30,90,100,60,80]\n",
    "min_value = min(my_set)\n",
    "print(\"Minimum_value:\", min_value)"
   ]
  },
  {
   "cell_type": "markdown",
   "id": "26956c64-096c-4edb-9b07-cfba3325d858",
   "metadata": {},
   "source": [
    "40. Create a set from user input."
   ]
  },
  {
   "cell_type": "code",
   "execution_count": 16,
   "id": "ae53f777-7a0e-46a7-b002-376baadd172f",
   "metadata": {},
   "outputs": [
    {
     "name": "stdin",
     "output_type": "stream",
     "text": [
      "some text :  sandhya jadhav patil\n"
     ]
    },
    {
     "name": "stdout",
     "output_type": "stream",
     "text": [
      "{'sandhya jadhav patil'}\n"
     ]
    }
   ],
   "source": [
    "x = input('some text : ')\n",
    "x = {a for a in x.split(\",\")}\n",
    "print(x)"
   ]
  },
  {
   "cell_type": "markdown",
   "id": "b3874dd1-e899-4092-9eab-996c9baa8e20",
   "metadata": {},
   "source": [
    "41. Check if the intersection of two sets is empty."
   ]
  },
  {
   "cell_type": "code",
   "execution_count": 1,
   "id": "c91d4160-6255-4da2-a859-2fb3299b41fc",
   "metadata": {},
   "outputs": [
    {
     "name": "stdout",
     "output_type": "stream",
     "text": [
      "intersection of two sets is not empty\n"
     ]
    }
   ],
   "source": [
    "set1 = {1,2,3,4,5}\n",
    "set2 = {4,5,6,7,8}\n",
    "intersection_set = set1.intersection(set2)\n",
    "if not intersection_set:\n",
    "    print(\"intersection of two sets empty\")\n",
    "else:\n",
    "    print(\"intersection of two sets is not empty\")"
   ]
  },
  {
   "cell_type": "markdown",
   "id": "67e1c27c-9052-4c78-a7a3-53d47ac69b66",
   "metadata": {},
   "source": [
    "42. Create a set of the first 5 Fibonacci numbers."
   ]
  },
  {
   "cell_type": "code",
   "execution_count": 7,
   "id": "8f9b9261-9dda-4504-a3f2-f2362485dfd1",
   "metadata": {},
   "outputs": [
    {
     "name": "stdout",
     "output_type": "stream",
     "text": [
      "first_5_fibonanacci_numbers: [0, 1, 1, 2, 3]\n"
     ]
    }
   ],
   "source": [
    "def generate_fibonacci(n):\n",
    "    fibonacci_list=[0,1]\n",
    "    for i in range(2,n):\n",
    "        next_fibonacci= fibonacci_list[i-1] + fibonacci_list[i-2]\n",
    "        fibonacci_list.append(next_fibonacci)\n",
    "    return fibonacci_list\n",
    "fibonacci_numbers = generate_fibonacci(5)\n",
    "print(\"first_5_fibonanacci_numbers:\", fibonacci_numbers)"
   ]
  },
  {
   "cell_type": "markdown",
   "id": "1267ecd1-3c0f-478a-a42a-34c8bbbcf998",
   "metadata": {},
   "source": [
    "43. Remove duplicates from a list using sets."
   ]
  },
  {
   "cell_type": "code",
   "execution_count": 9,
   "id": "1437c949-0494-4280-8335-13f64416ed5f",
   "metadata": {},
   "outputs": [
    {
     "name": "stdout",
     "output_type": "stream",
     "text": [
      "['sandhya', 'pw', 'skills', 'python']\n"
     ]
    }
   ],
   "source": [
    "students = ['sandhya', 'patil', 'pw', 'skills', 'python']\n",
    "del students[1]\n",
    "print(students)"
   ]
  },
  {
   "cell_type": "markdown",
   "id": "4d766517-b859-4ea5-ba04-57efe230d2b3",
   "metadata": {},
   "source": [
    "44. Check if two sets have the same elements, regardless of their count."
   ]
  },
  {
   "cell_type": "code",
   "execution_count": 12,
   "id": "0d4ba25f-d0b5-4683-a542-9028cc8bebde",
   "metadata": {},
   "outputs": [
    {
     "name": "stdout",
     "output_type": "stream",
     "text": [
      "Set 1:  {56, 10, 90, 53}\n",
      "Set 2:  {56, 43, 12}\n",
      "Set 3:  {56, 43, 12}\n",
      "Set1 and Set2 equal?  False\n",
      "Set1 and Set3 equal?  False\n",
      "Set2 and Set3 equal?  True\n"
     ]
    }
   ],
   "source": [
    "myset1 = {10,90,53,56}\n",
    "myset2 = {43,56,12}\n",
    "myset3 = {43,56,12}\n",
    "print(\"Set 1: \",myset1)\n",
    "print(\"Set 2: \",myset2)\n",
    "print(\"Set 3: \",myset3)\n",
    "print(\"Set1 and Set2 equal? \",myset1 == myset2)\n",
    "print(\"Set1 and Set3 equal? \",myset1 == myset3)\n",
    "print(\"Set2 and Set3 equal? \",myset2 == myset3)"
   ]
  },
  {
   "cell_type": "markdown",
   "id": "f8b1cdad-4c89-4caf-ad4c-8bba46b273ee",
   "metadata": {},
   "source": [
    "45. Create a set of the first `n` powers of 2."
   ]
  },
  {
   "cell_type": "code",
   "execution_count": 13,
   "id": "4f2a6333-35dc-40cf-b026-a8613f3a6850",
   "metadata": {},
   "outputs": [
    {
     "name": "stdout",
     "output_type": "stream",
     "text": [
      "list of the first n powers of 2: [1, 2, 4, 8, 16, 32, 64, 128, 256, 512]\n"
     ]
    }
   ],
   "source": [
    "n =10\n",
    "power_list = [2**i for i in range(n)]\n",
    "print(\"list of the first n powers of 2:\", power_list)"
   ]
  },
  {
   "cell_type": "markdown",
   "id": "20e8b424-74be-4aca-84d3-78cfe431d2cc",
   "metadata": {},
   "source": [
    "46. Find the common elements between a set and a list."
   ]
  },
  {
   "cell_type": "code",
   "execution_count": 16,
   "id": "2a8fb9f5-0e32-4579-89c8-e2212a687b55",
   "metadata": {},
   "outputs": [
    {
     "name": "stdout",
     "output_type": "stream",
     "text": [
      "two sets have common elements: {2}\n"
     ]
    }
   ],
   "source": [
    "s1 = {1, 2, 3}\n",
    "s2 = {5, 2, 7}\n",
    "common_elements= s1.intersection(s2)\n",
    "if not common_elements:\n",
    "    print(\"two sets have no common elements\")\n",
    "else:\n",
    "    print(\"two sets have common elements:\", common_elements)"
   ]
  },
  {
   "cell_type": "markdown",
   "id": "66b1c7fd-e8ef-4344-8c57-f82b98635b1d",
   "metadata": {},
   "source": [
    "47. Create a set of the first `n` triangular numbers."
   ]
  },
  {
   "cell_type": "code",
   "execution_count": 17,
   "id": "463348c1-80b3-4306-b219-fb12c4e92d6e",
   "metadata": {},
   "outputs": [
    {
     "name": "stdout",
     "output_type": "stream",
     "text": [
      "list of the first n triangular numbers: [1, 3, 6, 10, 15]\n"
     ]
    }
   ],
   "source": [
    "def triangular_numbers(n):\n",
    "    return[i*(i+1)//2for i in range(1,n+1)]\n",
    "n=5\n",
    "triangular_set=triangular_numbers(n)\n",
    "print(\"list of the first n triangular numbers:\", triangular_set)"
   ]
  },
  {
   "cell_type": "markdown",
   "id": "edae029b-f678-40ed-9ee7-f2c4c704c16d",
   "metadata": {},
   "source": [
    "48. Check if a set contains another set as a subset."
   ]
  },
  {
   "cell_type": "code",
   "execution_count": 18,
   "id": "44d65bda-828a-432e-a831-81778ebfe0cc",
   "metadata": {},
   "outputs": [
    {
     "name": "stdout",
     "output_type": "stream",
     "text": [
      "True\n"
     ]
    }
   ],
   "source": [
    "A = {1, 2, 3}\n",
    "B = {1, 2, 3, 4, 5}\n",
    "print(A.issubset(B))"
   ]
  },
  {
   "cell_type": "markdown",
   "id": "a437516b-e18e-4165-861d-d2d9319246d5",
   "metadata": {},
   "source": [
    "49. Create a set of alternating 1s and 0s of length `n`."
   ]
  },
  {
   "cell_type": "code",
   "execution_count": 19,
   "id": "527aabb2-b524-459c-acb8-3b9efdd5ff6b",
   "metadata": {},
   "outputs": [
    {
     "name": "stdout",
     "output_type": "stream",
     "text": [
      "set of alternating 1s and 0s: {0, 1}\n"
     ]
    }
   ],
   "source": [
    "x =10\n",
    "alternating_set = set(i%2for i in range(n))\n",
    "print(\"set of alternating 1s and 0s:\", alternating_set)"
   ]
  },
  {
   "cell_type": "markdown",
   "id": "f0c6a3be-d4a3-4eb1-b0fa-ce004913cc81",
   "metadata": {},
   "source": [
    "50. Merge multiple sets into one."
   ]
  },
  {
   "cell_type": "code",
   "execution_count": 20,
   "id": "e39be26c-eda9-4e45-9b79-1e145e72f0be",
   "metadata": {},
   "outputs": [
    {
     "name": "stdout",
     "output_type": "stream",
     "text": [
      "Merge_sets: (10, 20, 30, 40, 50, 60, 60, 40, 70)\n"
     ]
    }
   ],
   "source": [
    "set1 = (10,20,30)\n",
    "set2 = (40,50,60)\n",
    "set3 = (60,40,70)\n",
    "Merge_sets = set1 + set2 + set3\n",
    "print(\"Merge_sets:\", Merge_sets)"
   ]
  },
  {
   "cell_type": "code",
   "execution_count": null,
   "id": "85f27346-ea2b-4cb5-a334-eae2e52d0edf",
   "metadata": {},
   "outputs": [],
   "source": []
  }
 ],
 "metadata": {
  "kernelspec": {
   "display_name": "Python 3 (ipykernel)",
   "language": "python",
   "name": "python3"
  },
  "language_info": {
   "codemirror_mode": {
    "name": "ipython",
    "version": 3
   },
   "file_extension": ".py",
   "mimetype": "text/x-python",
   "name": "python",
   "nbconvert_exporter": "python",
   "pygments_lexer": "ipython3",
   "version": "3.10.8"
  }
 },
 "nbformat": 4,
 "nbformat_minor": 5
}
